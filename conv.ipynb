{
 "cells": [
  {
   "cell_type": "code",
   "execution_count": 1,
   "id": "classical-university",
   "metadata": {},
   "outputs": [],
   "source": [
    "import math\n",
    "import random\n",
    "import os.path as osp\n",
    "\n",
    "\n",
    "import os\n",
    "import pandas as pd\n",
    "\n",
    "from torch import Tensor\n",
    "\n",
    "import numpy as np\n",
    "\n",
    "import torch\n",
    "import torch.nn as nn\n",
    "import torch.nn.functional as F\n",
    "from torch.nn.parameter import Parameter\n",
    "\n",
    "from torch.utils.data import Dataset as BaseDataset\n",
    "from torch.utils.data import DataLoader\n",
    "\n",
    "from tqdm import tqdm\n",
    "from datetime import datetime\n",
    "\n",
    "from sklearn.model_selection import train_test_split"
   ]
  },
  {
   "cell_type": "code",
   "execution_count": 2,
   "id": "practical-final",
   "metadata": {},
   "outputs": [],
   "source": [
    "class BasicBlock(nn.Module):\n",
    "    def __init__(self, in_channels, out_channels, stride=1, dilation=1):\n",
    "        super(BasicBlock, self).__init__()\n",
    "        self.conv1 = nn.Conv2d(in_channels, out_channels,\n",
    "                               kernel_size=3, padding=1, stride=stride)\n",
    "        self.conv2 = nn.Conv2d(out_channels, out_channels,\n",
    "                               kernel_size=3, padding=1)\n",
    "        self.bn1 = nn.BatchNorm2d(num_features=out_channels)\n",
    "        self.bn2 = nn.BatchNorm2d(num_features=out_channels)\n",
    "        self.relu = nn.ReLU(inplace=True)\n",
    "\n",
    "        # one kernel make one feature map\n",
    "        # kernel 厚度 = channel 數\n",
    "        self.is_changed = in_channels != out_channels\n",
    "        self.trans = nn.Conv2d(in_channels, out_channels,\n",
    "                               kernel_size=1, stride=stride)\n",
    "\n",
    "    def forward(self, x):\n",
    "        f_x = self.conv1(x)\n",
    "        f_x = self.bn1(f_x)\n",
    "        f_x = self.relu(f_x)\n",
    "        f_x = self.conv2(f_x)\n",
    "        f_x = self.bn2(f_x)\n",
    "\n",
    "        if self.is_changed:\n",
    "            x = self.trans(x)\n",
    "\n",
    "        x = f_x + x\n",
    "        x = self.relu(x)\n",
    "        return x\n",
    "\n",
    "\n",
    "class BottleNeck(nn.Module):\n",
    "\n",
    "    def __init__(self, in_channels, out_channels, stride=1, dilation=4):\n",
    "        super(BottleNeck, self).__init__()\n",
    "        self.conv1 = nn.Conv2d(\n",
    "            in_channels=in_channels, out_channels=out_channels, kernel_size=1, stride=stride, padding=0)\n",
    "        self.conv2 = nn.Conv2d(\n",
    "            in_channels=out_channels, out_channels=out_channels, kernel_size=3, padding=1)\n",
    "        self.conv3 = nn.Conv2d(\n",
    "            in_channels=out_channels, out_channels=dilation*out_channels, kernel_size=1, padding=0)\n",
    "\n",
    "        self.bn1 = nn.BatchNorm2d(num_features=out_channels)\n",
    "        self.bn2 = nn.BatchNorm2d(num_features=out_channels)\n",
    "        self.bn3 = nn.BatchNorm2d(num_features=out_channels * dilation)\n",
    "\n",
    "        self.relu = nn.ReLU(inplace=True)\n",
    "\n",
    "        # one kernel make one feature map\n",
    "        # kernel 厚度 = channel 數\n",
    "        self.is_changed = in_channels != (out_channels*dilation)\n",
    "        self.trans = nn.Conv2d(in_channels, out_channels *\n",
    "                               dilation, kernel_size=1, stride=stride)\n",
    "\n",
    "    def forward(self, x):\n",
    "\n",
    "        f_x = self.conv1(x)\n",
    "        f_x = self.bn1(f_x)\n",
    "        f_x = self.relu(f_x)\n",
    "        f_x = self.conv2(f_x)\n",
    "        f_x = self.bn2(f_x)\n",
    "        f_x = self.relu(f_x)\n",
    "        f_x = self.conv3(f_x)\n",
    "        f_x = self.bn3(f_x)\n",
    "\n",
    "        if self.is_changed:\n",
    "            x = self.trans(x)\n",
    "\n",
    "        x = f_x + x\n",
    "        x = self.relu(x)\n",
    "        return x\n",
    "\n",
    "\n",
    "class _ResNet(nn.Module):\n",
    "    def __init__(self, block, block_cnts, dilation=1):\n",
    "        super(_ResNet, self).__init__()\n",
    "\n",
    "        self.in_channels = 64\n",
    "        self.out_channels = 64\n",
    "\n",
    "        self.conv1 = nn.Conv2d(\n",
    "            in_channels=1, out_channels=self.in_channels, kernel_size=7, stride=2, padding=3)\n",
    "        self.max_pool = nn.MaxPool2d(kernel_size=3, stride=2, padding=1)\n",
    "\n",
    "        self.layer1 = self._layer(\n",
    "            block, block_cnts[0], dilation, self.in_channels, self.out_channels, stride=1)\n",
    "        self.layer2 = self._layer(\n",
    "            block, block_cnts[1], dilation, self.in_channels, self.out_channels, stride=2)\n",
    "        self.layer3 = self._layer(\n",
    "            block, block_cnts[2], dilation, self.in_channels, self.out_channels, stride=2)\n",
    "        self.layer4 = self._layer(\n",
    "            block, block_cnts[3], dilation, self.in_channels, self.out_channels, stride=2)\n",
    "\n",
    "        self.avg = nn.AdaptiveAvgPool2d(output_size=(1, 1))\n",
    "\n",
    "        self.dense = nn.Linear(in_features=self.in_channels, out_features=1)\n",
    "        self.activation = nn.Sigmoid()\n",
    "        self.flatten = nn.Flatten(start_dim=1)\n",
    "\n",
    "    def _layer(self, block, block_cnt, dilation, in_channels, out_channels, stride):\n",
    "        # in_channels: param of previous block output channel\n",
    "        # out_channels: param of current block input channel\n",
    "\n",
    "        blocks = []\n",
    "        blocks.append(\n",
    "            block(in_channels=in_channels,\n",
    "                  out_channels=out_channels, stride=stride)\n",
    "        )\n",
    "\n",
    "        for cnt in range(1, block_cnt):\n",
    "            b = block(in_channels=dilation * out_channels,\n",
    "                      out_channels=out_channels)\n",
    "            blocks.append(b)\n",
    "\n",
    "        self.in_channels = out_channels * dilation\n",
    "        self.out_channels = out_channels * 2\n",
    "\n",
    "        return nn.Sequential(*blocks)\n",
    "\n",
    "    def forward(self, x):\n",
    "        x = self.conv1(x)\n",
    "        x = self.max_pool(x)\n",
    "        x = self.layer1(x)\n",
    "        x = self.layer2(x)\n",
    "        x = self.layer3(x)\n",
    "        x = self.layer4(x)\n",
    "\n",
    "        x = self.avg(x)\n",
    "\n",
    "        x = self.flatten(x)\n",
    "        x = self.dense(x)\n",
    "\n",
    "        x = self.activation(x)\n",
    "        return x"
   ]
  },
  {
   "cell_type": "code",
   "execution_count": 57,
   "id": "adaptive-bargain",
   "metadata": {},
   "outputs": [],
   "source": [
    "root = os.getcwd()\n",
    "\n",
    "dataset = \"dataset3\"\n",
    "\n",
    "### dataset 1\n",
    "# num_ent = 2708\n",
    "# embed_dim = 1500\n",
    "\n",
    "### dataset 2\n",
    "# num_ent = 3312\n",
    "# embed_dim = 4000\n",
    "\n",
    "### dataset 2\n",
    "# num_ent = 877\n",
    "# feat_len = 1703\n",
    "# embed_dim = 1800"
   ]
  },
  {
   "cell_type": "code",
   "execution_count": 58,
   "id": "worthy-bulletin",
   "metadata": {},
   "outputs": [],
   "source": [
    "device = torch.device('cuda:1' if torch.cuda.is_available() else 'cpu')"
   ]
  },
  {
   "cell_type": "code",
   "execution_count": 70,
   "id": "allied-wholesale",
   "metadata": {},
   "outputs": [],
   "source": [
    "class Args:\n",
    "    def __init__(self,\n",
    "                num_ent=2708,\n",
    "                feat_len=1703,\n",
    "                embed_dim=1800,\n",
    "                inp_drop=0.5,\n",
    "                feat_drop=0.5,\n",
    "                hid_drop=0.2,\n",
    "                perm=1,\n",
    "                k_w=30,\n",
    "                k_h=60,\n",
    "                jk_h=50,\n",
    "                num_filt=96,\n",
    "                ker_sz=3):\n",
    "        self.num_ent = num_ent\n",
    "        self.feat_len = feat_len\n",
    "        self.embed_dim = embed_dim\n",
    "        self.inp_drop = inp_drop\n",
    "        self.feat_drop = feat_drop\n",
    "        self.hid_drop = hid_drop\n",
    "        self.perm = perm\n",
    "        self.k_w = k_w\n",
    "        self.k_h = k_h\n",
    "        self.num_filt = num_filt\n",
    "        self.ker_sz = ker_sz"
   ]
  },
  {
   "cell_type": "code",
   "execution_count": 71,
   "id": "critical-compatibility",
   "metadata": {},
   "outputs": [],
   "source": [
    "train_df = pd.read_csv(os.path.join(root, \"hw2_data\", dataset, \"raw\", \"train.csv\"))\n",
    "\n",
    "tmp = pd.DataFrame(data={\n",
    "                    \"from\": train_df[\"to\"], \n",
    "                    \"to\": train_df[\"from\"],\n",
    "                    \"label\": train_df[\"label\"],\n",
    "                    \"id\": train_df[\"id\"]})\n",
    "\n",
    "train_df = pd.concat([train_df, tmp], ignore_index=True)\n",
    "train_df = train_df.drop_duplicates()"
   ]
  },
  {
   "cell_type": "code",
   "execution_count": 72,
   "id": "light-signal",
   "metadata": {},
   "outputs": [],
   "source": [
    "train_df, valid_df = train_test_split(train_df)"
   ]
  },
  {
   "cell_type": "code",
   "execution_count": 73,
   "id": "statutory-manitoba",
   "metadata": {},
   "outputs": [],
   "source": [
    "content_df = pd.read_csv(os.path.join(root, \"hw2_data\", dataset, \"raw\", \"content.csv\"), \n",
    "                         delimiter=\"\\t\", \n",
    "                         header=None)\n",
    "content_df = content_df.sort_values(by=[0]).loc[:, 1:]"
   ]
  },
  {
   "cell_type": "code",
   "execution_count": 74,
   "id": "trying-exclusion",
   "metadata": {},
   "outputs": [],
   "source": [
    "test_df = pd.read_csv(os.path.join(root, \"hw2_data\", dataset, \"raw\", \"test.csv\"))"
   ]
  },
  {
   "cell_type": "code",
   "execution_count": 75,
   "id": "consolidated-greeting",
   "metadata": {},
   "outputs": [],
   "source": [
    "class Dataset(BaseDataset):\n",
    "    \n",
    "    def __init__(self, dataframe, content, split=\"train\"):\n",
    "        \n",
    "        # Read node features\n",
    "        content = content.to_numpy()\n",
    "        self.features = content\n",
    "        self.dataframe = dataframe\n",
    "        \n",
    "        self.split = split\n",
    "        \n",
    "    def __len__(self):\n",
    "        return len(self.dataframe)\n",
    "        \n",
    "    def __getitem__(self, idx):\n",
    "        \n",
    "        row = self.dataframe.iloc[idx]\n",
    "\n",
    "        follower, followee = row[\"from\"], row[\"to\"]\n",
    "\n",
    "        follower_feat = self.features[follower]\n",
    "        followee_feat = self.features[followee]\n",
    "\n",
    "        if self.split == \"test\":\n",
    "            return follower, followee, follower_feat, followee_feat \n",
    "        \n",
    "        return follower, followee, follower_feat, followee_feat, row[\"label\"]"
   ]
  },
  {
   "cell_type": "code",
   "execution_count": 76,
   "id": "korean-healthcare",
   "metadata": {},
   "outputs": [],
   "source": [
    "trainset = Dataset(train_df, content_df, split=\"train\")\n",
    "validset = Dataset(valid_df, content_df, split=\"valid\")\n",
    "testset = Dataset(test_df, content_df, split=\"test\")"
   ]
  },
  {
   "cell_type": "code",
   "execution_count": 77,
   "id": "sunrise-consciousness",
   "metadata": {},
   "outputs": [],
   "source": [
    "trainloader = DataLoader(trainset, batch_size=32, shuffle=True, num_workers=2)\n",
    "validloader = DataLoader(validset, batch_size=32, shuffle=False, num_workers=2)\n",
    "testloader = DataLoader(testset, batch_size=32, shuffle=False, num_workers=2)"
   ]
  },
  {
   "cell_type": "code",
   "execution_count": 78,
   "id": "valued-promise",
   "metadata": {},
   "outputs": [],
   "source": [
    "args = Args(num_ent=len(content_df), feat_len=len(content_df.iloc[0]))"
   ]
  },
  {
   "cell_type": "code",
   "execution_count": 79,
   "id": "talented-bradley",
   "metadata": {},
   "outputs": [
    {
     "data": {
      "text/plain": [
       "1703"
      ]
     },
     "execution_count": 79,
     "metadata": {},
     "output_type": "execute_result"
    }
   ],
   "source": [
    "args.feat_len"
   ]
  },
  {
   "cell_type": "code",
   "execution_count": 80,
   "id": "accurate-earth",
   "metadata": {},
   "outputs": [],
   "source": [
    "def get_chequer_perm(perm=1, k_w=30, k_h=50):\n",
    "    \"\"\"\n",
    "    Function to generate the chequer permutation required for InteractE model\n",
    "    Parameters\n",
    "    ----------\n",
    "\n",
    "    Returns\n",
    "    -------\n",
    "\n",
    "    \"\"\"\n",
    "    embed_dim = k_w * k_h\n",
    "#     ent_perm  = np.int32([np.random.permutation(embed_dim) for _ in range(perm)])\n",
    "#     print(ent_perm)\n",
    "    ent_perm  = np.int32([np.arange(embed_dim) for _ in range(perm)])\n",
    "#     rel_perm  = np.int32([np.random.permutation(embed_dim) for _ in range(perm)])\n",
    "#     print(rel_perm)\n",
    "    rel_perm  = np.int32([np.arange(embed_dim) for _ in range(perm)])\n",
    "\n",
    "    comb_idx = []\n",
    "    for k in range(perm):\n",
    "        temp = []\n",
    "        ent_idx, rel_idx = 0, 0\n",
    "\n",
    "        for i in range(embed_dim):\n",
    "            if k % 2 == 0:\n",
    "                if i % 2 == 0:\n",
    "                    temp.append(ent_perm[k, ent_idx]); ent_idx += 1;\n",
    "                    temp.append(rel_perm[k, rel_idx]+embed_dim); rel_idx += 1;\n",
    "                else:\n",
    "                    temp.append(rel_perm[k, rel_idx]+embed_dim); rel_idx += 1;\n",
    "                    temp.append(ent_perm[k, ent_idx]); ent_idx += 1;\n",
    "            else:\n",
    "                if i % 2 == 0:\n",
    "                    temp.append(rel_perm[k, rel_idx]+embed_dim); rel_idx += 1;\n",
    "                    temp.append(ent_perm[k, ent_idx]); ent_idx += 1;\n",
    "                else:\n",
    "                    temp.append(ent_perm[k, ent_idx]); ent_idx += 1;\n",
    "                    temp.append(rel_perm[k, rel_idx]+embed_dim); rel_idx += 1;\n",
    "\n",
    "        comb_idx.append(temp)\n",
    "\n",
    "    chequer_perm = torch.LongTensor(np.int32(comb_idx))\n",
    "    return chequer_perm\n"
   ]
  },
  {
   "cell_type": "code",
   "execution_count": 81,
   "id": "duplicate-boxing",
   "metadata": {},
   "outputs": [
    {
     "data": {
      "text/plain": [
       "tensor([[   0, 1800, 1801,  ..., 3598, 3599, 1799]])"
      ]
     },
     "execution_count": 81,
     "metadata": {},
     "output_type": "execute_result"
    }
   ],
   "source": [
    "chequer = get_chequer_perm(perm=args.perm, k_w=args.k_w, k_h=args.k_h)\n",
    "chequer"
   ]
  },
  {
   "cell_type": "code",
   "execution_count": 82,
   "id": "accessible-remark",
   "metadata": {},
   "outputs": [],
   "source": [
    "class InteractE(torch.nn.Module):\n",
    "    \"\"\"\n",
    "    Proposed method in the paper. Refer Section 6 of the paper for mode details \n",
    "    Parameters\n",
    "    ----------\n",
    "    params:         Hyperparameters of the model\n",
    "    chequer_perm:   Reshaping to be used by the model\n",
    "\n",
    "    Returns\n",
    "    -------\n",
    "    The InteractE model instance\n",
    "\n",
    "    \"\"\"\n",
    "    def __init__(self, params, chequer_perm):\n",
    "        super(InteractE, self).__init__()\n",
    "\n",
    "        self.p = params\n",
    "        self.ent_embed = torch.nn.Embedding(self.p.num_ent, self.p.embed_dim-self.p.feat_len, padding_idx=None); # xavier_normal_(self.ent_embed.weight)\n",
    "        print(self.ent_embed)\n",
    "        self.chequer_perm = chequer_perm\n",
    "\n",
    "\n",
    "        self.resnet = _ResNet(BasicBlock, [2, 2, 2, 2], 1)\n",
    "    \n",
    "    def circular_padding_chw(self, batch, padding):\n",
    "        upper_pad = batch[..., -padding:, :]\n",
    "        lower_pad = batch[..., :padding, :]\n",
    "        temp = torch.cat([upper_pad, batch, lower_pad], dim=2)\n",
    "\n",
    "        left_pad = temp[..., -padding:]\n",
    "        right_pad = temp[..., :padding]\n",
    "        padded = torch.cat([left_pad, temp, right_pad], dim=3)\n",
    "        return padded\n",
    "\n",
    "    def forward(self, follower, followee, follower_id, followee_id):\n",
    "\n",
    "#         print(follower_id)\n",
    "        follower_emb = self.ent_embed(follower_id)\n",
    "        if isinstance(follower, np.ndarray):\n",
    "            follower = torch.from_numpy(follower)\n",
    "        follower_emb = torch.cat((follower, follower_emb), dim=-1)\n",
    "  \n",
    "        \n",
    "        followee_emb = self.ent_embed(followee_id)\n",
    "        if isinstance(followee, np.ndarray):\n",
    "            followee = torch.from_numpy(followee)\n",
    "        followee_emb = torch.cat((followee, followee_emb), dim=-1)\n",
    "        \n",
    "        comb_emb = torch.cat([follower_emb, followee_emb], dim=-1)\n",
    "        chequer_perm = comb_emb[:, self.chequer_perm] # batch, 1, embed_size\n",
    "\n",
    "        stack_inp = chequer_perm.reshape((-1, self.p.perm, 2*self.p.k_w, self.p.k_h)) # batch, 1, 2*k_w, k_h\n",
    "        \n",
    "        #### start\n",
    "        \n",
    "#         stack_inp = self.bn0(stack_inp)\n",
    "        \n",
    "#         stack_inp = self.inp_drop(stack_inp)\n",
    "        x = self.circular_padding_chw(stack_inp, self.p.ker_sz//2)\n",
    "        \n",
    "#         x = F.relu(self.conv1(stack_inp))\n",
    "#         x = F.relu(self.conv2(x))\n",
    "#         x = F.relu(self.conv3(x))\n",
    "#         x = self.flatten(x)\n",
    "#         x = F.relu(self.fc1(x))\n",
    "#         x = self.feature_map_drop(x)\n",
    "#         x = F.relu(self.fc2(x))\n",
    "#         x = self.fc3(x)\n",
    "        \n",
    "\n",
    "\n",
    "#         x = F.conv2d(x, self.conv_filt.repeat(self.p.perm, 1, 1, 1), padding=self.padding, groups=self.p.perm)\n",
    "\n",
    "#         x = self.bn1(x)\n",
    "#         x = F.relu(x)\n",
    "#         x = self.feature_map_drop(x)\n",
    "#         x = x.view(-1, self.flat_sz)\n",
    "#         x = self.fc(x) # batch, flat_sz\n",
    "       \n",
    "#         pred = torch.sigmoid(x)\n",
    "        pred = self.resnet(x)\n",
    "\n",
    "        return pred\n"
   ]
  },
  {
   "cell_type": "code",
   "execution_count": 83,
   "id": "logical-zambia",
   "metadata": {},
   "outputs": [],
   "source": [
    "def load_checkpoint(filepath, device):\n",
    "    \n",
    "    model = InteractE(args, chequer).to(device)\n",
    "\n",
    "    if os.path.exists(filepath):\n",
    "        print(\"pretrained finded\")\n",
    "        checkpoint = torch.load(filepath)\n",
    "        model.load_state_dict(checkpoint['model_stat'])\n",
    "        optimizer = torch.optim.Adam(model.parameters(), lr=1e-4)\n",
    "        optimizer.load_state_dict(checkpoint['optimizer_stat'])\n",
    "\n",
    "    else:\n",
    "        print(\"use a new optimizer\")\n",
    "        optimizer = torch.optim.Adam(model.parameters(), lr=1e-4)\n",
    "\n",
    "    return model, optimizer"
   ]
  },
  {
   "cell_type": "code",
   "execution_count": 84,
   "id": "noted-catalyst",
   "metadata": {
    "scrolled": true
   },
   "outputs": [
    {
     "name": "stdout",
     "output_type": "stream",
     "text": [
      "Embedding(877, 97)\n",
      "use a new optimizer\n"
     ]
    }
   ],
   "source": [
    "model, optimizer = load_checkpoint(os.path.join(root, \"results\", dataset, \"conv\", \"weight.pth\"), device=device)"
   ]
  },
  {
   "cell_type": "code",
   "execution_count": 85,
   "id": "cardiac-shareware",
   "metadata": {},
   "outputs": [],
   "source": [
    "def train(model, optim, loader, device):\n",
    "    \n",
    "    model.train()\n",
    "    model = model.to(device)\n",
    "    \n",
    "    total_loss = 0\n",
    "    for index, data in tqdm(enumerate(loader)):\n",
    "        \n",
    "        optim.zero_grad()\n",
    "        \n",
    "        follower, followee, follower_feat, followee_feat, label = data\n",
    "        \n",
    "        follower = follower.to(device)\n",
    "        followee = followee.to(device)\n",
    "        follower_feat = follower_feat.to(device)\n",
    "        followee_feat = followee_feat.to(device)\n",
    "        label = label.to(device).float()\n",
    "\n",
    "        pred = model(follower_feat, followee_feat, follower, followee) \n",
    "        pred = torch.squeeze(pred)\n",
    "        \n",
    "        loss = torch.nn.BCELoss()(pred, label)\n",
    "\n",
    "        loss.backward()\n",
    "        optim.step()\n",
    "        \n",
    "        total_loss += loss.item()\n",
    "\n",
    "    total_loss = total_loss/(index+1)\n",
    "    return total_loss"
   ]
  },
  {
   "cell_type": "code",
   "execution_count": 86,
   "id": "organizational-fundamental",
   "metadata": {},
   "outputs": [],
   "source": [
    "@torch.no_grad()\n",
    "def test(model, loader, device=\"cpu\"):\n",
    "    \n",
    "    from sklearn.metrics import roc_auc_score\n",
    "    \n",
    "    model.eval()\n",
    "    model = model.to(device)\n",
    "    \n",
    "    y_pred, y_true = [], []\n",
    "    for data in tqdm(loader):\n",
    "        follower, followee, follower_feat, followee_feat, label = data\n",
    "        \n",
    "        follower = follower.to(device)\n",
    "        followee = followee.to(device)\n",
    "        follower_feat = follower_feat.to(device)\n",
    "        followee_feat = followee_feat.to(device)\n",
    "        label = label.to(device).float()\n",
    "        \n",
    "        pred = model(follower_feat, followee_feat, follower, followee) \n",
    "        pred = torch.squeeze(pred)\n",
    "        \n",
    "        y_pred.append(pred.view(-1).cpu())\n",
    "        y_true.append(label.view(-1).cpu())\n",
    "     \n",
    "    return roc_auc_score(torch.cat(y_true), torch.cat(y_pred))"
   ]
  },
  {
   "cell_type": "code",
   "execution_count": 87,
   "id": "scheduled-composite",
   "metadata": {},
   "outputs": [],
   "source": [
    "@torch.no_grad()\n",
    "def predict(model, loader, device=\"cpu\"):\n",
    "    \n",
    "#     from sklearn.metrics import roc_auc_score\n",
    "    \n",
    "    model.eval()\n",
    "    model = model.to(device)\n",
    "    \n",
    "    y_pred = []\n",
    "    for data in tqdm(loader):\n",
    "        follower, followee, follower_feat, followee_feat = data\n",
    "        \n",
    "        follower = follower.to(device)\n",
    "        followee = followee.to(device)\n",
    "        follower_feat = follower_feat.to(device)\n",
    "        followee_feat = followee_feat.to(device)\n",
    "        \n",
    "        pred = model(follower_feat, followee_feat, follower, followee) \n",
    "        pred = torch.squeeze(pred)\n",
    "        \n",
    "        y_pred.append(pred.view(-1).cpu())\n",
    "     \n",
    "    return torch.cat(y_pred)"
   ]
  },
  {
   "cell_type": "code",
   "execution_count": null,
   "id": "norwegian-enforcement",
   "metadata": {},
   "outputs": [],
   "source": []
  },
  {
   "cell_type": "code",
   "execution_count": 88,
   "id": "acute-stream",
   "metadata": {},
   "outputs": [
    {
     "name": "stderr",
     "output_type": "stream",
     "text": [
      "119it [00:02, 40.71it/s]\n",
      "100%|██████████| 119/119 [00:00<00:00, 123.69it/s]\n",
      "100%|██████████| 40/40 [00:00<00:00, 88.06it/s] \n"
     ]
    },
    {
     "name": "stdout",
     "output_type": "stream",
     "text": [
      "\n",
      "Save Model\n",
      "Epoch: 1, loss=0.62492, valid_auc=0.76955, train_auc=0.96057\n"
     ]
    },
    {
     "name": "stderr",
     "output_type": "stream",
     "text": [
      "119it [00:02, 42.78it/s]\n",
      "100%|██████████| 119/119 [00:00<00:00, 125.21it/s]\n",
      "100%|██████████| 40/40 [00:00<00:00, 86.46it/s] \n"
     ]
    },
    {
     "name": "stdout",
     "output_type": "stream",
     "text": [
      "\n",
      "Save Model\n",
      "Epoch: 2, loss=0.32416, valid_auc=0.81276, train_auc=0.99324\n"
     ]
    },
    {
     "name": "stderr",
     "output_type": "stream",
     "text": [
      "119it [00:02, 42.77it/s]\n",
      "100%|██████████| 119/119 [00:00<00:00, 121.32it/s]\n",
      "100%|██████████| 40/40 [00:00<00:00, 86.83it/s] \n"
     ]
    },
    {
     "name": "stdout",
     "output_type": "stream",
     "text": [
      "\n",
      "Save Model\n",
      "Epoch: 3, loss=0.15123, valid_auc=0.81350, train_auc=0.99759\n"
     ]
    },
    {
     "name": "stderr",
     "output_type": "stream",
     "text": [
      "119it [00:02, 43.60it/s]\n",
      "100%|██████████| 119/119 [00:00<00:00, 122.30it/s]\n",
      "100%|██████████| 40/40 [00:00<00:00, 84.25it/s] \n"
     ]
    },
    {
     "name": "stdout",
     "output_type": "stream",
     "text": [
      "\n",
      "Save Model\n",
      "Epoch: 4, loss=0.09621, valid_auc=0.81547, train_auc=0.99937\n"
     ]
    },
    {
     "name": "stderr",
     "output_type": "stream",
     "text": [
      "119it [00:02, 40.59it/s]\n",
      "100%|██████████| 119/119 [00:00<00:00, 121.91it/s]\n",
      "100%|██████████| 40/40 [00:00<00:00, 90.41it/s] \n"
     ]
    },
    {
     "name": "stdout",
     "output_type": "stream",
     "text": [
      "\n",
      "Save Model\n",
      "Epoch: 5, loss=0.06291, valid_auc=0.81867, train_auc=0.99954\n"
     ]
    },
    {
     "name": "stderr",
     "output_type": "stream",
     "text": [
      "119it [00:02, 43.39it/s]\n",
      "100%|██████████| 119/119 [00:00<00:00, 121.19it/s]\n",
      "100%|██████████| 40/40 [00:00<00:00, 82.91it/s] \n"
     ]
    },
    {
     "name": "stdout",
     "output_type": "stream",
     "text": [
      "\n",
      "Save Model\n",
      "Epoch: 6, loss=0.05557, valid_auc=0.83545, train_auc=0.99895\n"
     ]
    },
    {
     "name": "stderr",
     "output_type": "stream",
     "text": [
      "119it [00:02, 42.67it/s]\n",
      "100%|██████████| 119/119 [00:00<00:00, 127.72it/s]\n",
      "100%|██████████| 40/40 [00:00<00:00, 82.33it/s] "
     ]
    },
    {
     "name": "stdout",
     "output_type": "stream",
     "text": [
      "Epoch: 7, loss=0.05476, valid_auc=0.82179, train_auc=0.99941\n"
     ]
    },
    {
     "name": "stderr",
     "output_type": "stream",
     "text": [
      "\n",
      "119it [00:02, 41.81it/s]\n",
      "100%|██████████| 119/119 [00:00<00:00, 120.16it/s]\n",
      "100%|██████████| 40/40 [00:00<00:00, 81.16it/s] \n"
     ]
    },
    {
     "name": "stdout",
     "output_type": "stream",
     "text": [
      "\n",
      "Save Model\n",
      "Epoch: 8, loss=0.04297, valid_auc=0.83612, train_auc=0.99971\n"
     ]
    },
    {
     "name": "stderr",
     "output_type": "stream",
     "text": [
      "119it [00:02, 40.68it/s]\n",
      "100%|██████████| 119/119 [00:00<00:00, 119.75it/s]\n",
      "100%|██████████| 40/40 [00:00<00:00, 87.60it/s] "
     ]
    },
    {
     "name": "stdout",
     "output_type": "stream",
     "text": [
      "Epoch: 9, loss=0.03032, valid_auc=0.83553, train_auc=0.99999\n"
     ]
    },
    {
     "name": "stderr",
     "output_type": "stream",
     "text": [
      "\n",
      "119it [00:02, 42.27it/s]\n",
      "100%|██████████| 119/119 [00:00<00:00, 119.95it/s]\n",
      "100%|██████████| 40/40 [00:00<00:00, 88.50it/s] "
     ]
    },
    {
     "name": "stdout",
     "output_type": "stream",
     "text": [
      "Epoch: 10, loss=0.02093, valid_auc=0.83492, train_auc=0.99988\n"
     ]
    },
    {
     "name": "stderr",
     "output_type": "stream",
     "text": [
      "\n",
      "119it [00:02, 40.22it/s]\n",
      "100%|██████████| 119/119 [00:00<00:00, 121.83it/s]\n",
      "100%|██████████| 40/40 [00:00<00:00, 83.05it/s] "
     ]
    },
    {
     "name": "stdout",
     "output_type": "stream",
     "text": [
      "Epoch: 11, loss=0.04141, valid_auc=0.82310, train_auc=0.99979\n"
     ]
    },
    {
     "name": "stderr",
     "output_type": "stream",
     "text": [
      "\n",
      "119it [00:02, 43.09it/s]\n",
      "100%|██████████| 119/119 [00:00<00:00, 119.66it/s]\n",
      "100%|██████████| 40/40 [00:00<00:00, 86.97it/s] "
     ]
    },
    {
     "name": "stdout",
     "output_type": "stream",
     "text": [
      "Epoch: 12, loss=0.03304, valid_auc=0.82720, train_auc=0.99987\n"
     ]
    },
    {
     "name": "stderr",
     "output_type": "stream",
     "text": [
      "\n",
      "119it [00:02, 40.82it/s]\n",
      "100%|██████████| 119/119 [00:00<00:00, 120.72it/s]\n",
      "100%|██████████| 40/40 [00:00<00:00, 86.31it/s] \n"
     ]
    },
    {
     "name": "stdout",
     "output_type": "stream",
     "text": [
      "\n",
      "Save Model\n",
      "Epoch: 13, loss=0.03729, valid_auc=0.83734, train_auc=0.99939\n"
     ]
    },
    {
     "name": "stderr",
     "output_type": "stream",
     "text": [
      "119it [00:02, 41.05it/s]\n",
      "100%|██████████| 119/119 [00:00<00:00, 124.40it/s]\n",
      "100%|██████████| 40/40 [00:00<00:00, 86.69it/s] "
     ]
    },
    {
     "name": "stdout",
     "output_type": "stream",
     "text": [
      "Epoch: 14, loss=0.03855, valid_auc=0.83580, train_auc=0.99947\n"
     ]
    },
    {
     "name": "stderr",
     "output_type": "stream",
     "text": [
      "\n",
      "119it [00:02, 40.95it/s]\n",
      "100%|██████████| 119/119 [00:00<00:00, 122.52it/s]\n",
      "100%|██████████| 40/40 [00:00<00:00, 81.90it/s]\n"
     ]
    },
    {
     "name": "stdout",
     "output_type": "stream",
     "text": [
      "\n",
      "Save Model\n",
      "Epoch: 15, loss=0.04123, valid_auc=0.84063, train_auc=0.99992\n"
     ]
    },
    {
     "name": "stderr",
     "output_type": "stream",
     "text": [
      "119it [00:02, 40.03it/s]\n",
      "100%|██████████| 119/119 [00:00<00:00, 121.75it/s]\n",
      "100%|██████████| 40/40 [00:00<00:00, 80.55it/s] "
     ]
    },
    {
     "name": "stdout",
     "output_type": "stream",
     "text": [
      "Epoch: 16, loss=0.01805, valid_auc=0.83690, train_auc=0.99997\n"
     ]
    },
    {
     "name": "stderr",
     "output_type": "stream",
     "text": [
      "\n",
      "119it [00:02, 41.94it/s]\n",
      "100%|██████████| 119/119 [00:00<00:00, 123.95it/s]\n",
      "100%|██████████| 40/40 [00:00<00:00, 88.57it/s] \n"
     ]
    },
    {
     "name": "stdout",
     "output_type": "stream",
     "text": [
      "\n",
      "Save Model\n",
      "Epoch: 17, loss=0.01443, valid_auc=0.84578, train_auc=1.00000\n"
     ]
    },
    {
     "name": "stderr",
     "output_type": "stream",
     "text": [
      "119it [00:02, 40.01it/s]\n",
      "100%|██████████| 119/119 [00:00<00:00, 119.64it/s]\n",
      "100%|██████████| 40/40 [00:00<00:00, 85.48it/s] "
     ]
    },
    {
     "name": "stdout",
     "output_type": "stream",
     "text": [
      "Epoch: 18, loss=0.01437, valid_auc=0.84008, train_auc=0.99966\n"
     ]
    },
    {
     "name": "stderr",
     "output_type": "stream",
     "text": [
      "\n",
      "119it [00:02, 41.66it/s]\n",
      "100%|██████████| 119/119 [00:00<00:00, 120.39it/s]\n",
      "100%|██████████| 40/40 [00:00<00:00, 89.20it/s] "
     ]
    },
    {
     "name": "stdout",
     "output_type": "stream",
     "text": [
      "Epoch: 19, loss=0.05323, valid_auc=0.83280, train_auc=0.99883\n"
     ]
    },
    {
     "name": "stderr",
     "output_type": "stream",
     "text": [
      "\n",
      "119it [00:02, 41.71it/s]\n",
      "100%|██████████| 119/119 [00:00<00:00, 121.31it/s]\n",
      "100%|██████████| 40/40 [00:00<00:00, 78.24it/s]\n"
     ]
    },
    {
     "name": "stdout",
     "output_type": "stream",
     "text": [
      "\n",
      "Save Model\n",
      "Epoch: 20, loss=0.02909, valid_auc=0.84925, train_auc=0.99990\n"
     ]
    },
    {
     "name": "stderr",
     "output_type": "stream",
     "text": [
      "119it [00:02, 41.47it/s]\n",
      "100%|██████████| 119/119 [00:00<00:00, 124.34it/s]\n",
      "100%|██████████| 40/40 [00:00<00:00, 92.03it/s] "
     ]
    },
    {
     "name": "stdout",
     "output_type": "stream",
     "text": [
      "Epoch: 21, loss=0.01477, valid_auc=0.83162, train_auc=0.99995\n"
     ]
    },
    {
     "name": "stderr",
     "output_type": "stream",
     "text": [
      "\n",
      "119it [00:02, 41.94it/s]\n",
      "100%|██████████| 119/119 [00:00<00:00, 122.87it/s]\n",
      "100%|██████████| 40/40 [00:00<00:00, 84.79it/s] "
     ]
    },
    {
     "name": "stdout",
     "output_type": "stream",
     "text": [
      "Epoch: 22, loss=0.02442, valid_auc=0.84830, train_auc=0.99999\n"
     ]
    },
    {
     "name": "stderr",
     "output_type": "stream",
     "text": [
      "\n",
      "119it [00:02, 41.29it/s]\n",
      "100%|██████████| 119/119 [00:00<00:00, 122.81it/s]\n",
      "100%|██████████| 40/40 [00:00<00:00, 84.04it/s] "
     ]
    },
    {
     "name": "stdout",
     "output_type": "stream",
     "text": [
      "Epoch: 23, loss=0.01612, valid_auc=0.84922, train_auc=0.99981\n"
     ]
    },
    {
     "name": "stderr",
     "output_type": "stream",
     "text": [
      "\n",
      "119it [00:02, 41.80it/s]\n",
      "100%|██████████| 119/119 [00:00<00:00, 123.36it/s]\n",
      "100%|██████████| 40/40 [00:00<00:00, 85.59it/s] "
     ]
    },
    {
     "name": "stdout",
     "output_type": "stream",
     "text": [
      "Epoch: 24, loss=0.00801, valid_auc=0.84512, train_auc=0.99997\n"
     ]
    },
    {
     "name": "stderr",
     "output_type": "stream",
     "text": [
      "\n",
      "119it [00:02, 39.87it/s]\n",
      "100%|██████████| 119/119 [00:00<00:00, 127.77it/s]\n",
      "100%|██████████| 40/40 [00:00<00:00, 85.82it/s] "
     ]
    },
    {
     "name": "stdout",
     "output_type": "stream",
     "text": [
      "Epoch: 25, loss=0.01042, valid_auc=0.84158, train_auc=0.99952\n"
     ]
    },
    {
     "name": "stderr",
     "output_type": "stream",
     "text": [
      "\n",
      "119it [00:02, 42.74it/s]\n",
      "100%|██████████| 119/119 [00:01<00:00, 117.49it/s]\n",
      "100%|██████████| 40/40 [00:00<00:00, 87.12it/s] "
     ]
    },
    {
     "name": "stdout",
     "output_type": "stream",
     "text": [
      "Epoch: 26, loss=0.02608, valid_auc=0.84510, train_auc=0.99980\n"
     ]
    },
    {
     "name": "stderr",
     "output_type": "stream",
     "text": [
      "\n",
      "119it [00:02, 40.61it/s]\n",
      "100%|██████████| 119/119 [00:00<00:00, 124.79it/s]\n",
      "100%|██████████| 40/40 [00:00<00:00, 83.12it/s] "
     ]
    },
    {
     "name": "stdout",
     "output_type": "stream",
     "text": [
      "Epoch: 27, loss=0.02061, valid_auc=0.83255, train_auc=0.99955\n"
     ]
    },
    {
     "name": "stderr",
     "output_type": "stream",
     "text": [
      "\n",
      "119it [00:02, 42.00it/s]\n",
      "100%|██████████| 119/119 [00:00<00:00, 126.69it/s]\n",
      "100%|██████████| 40/40 [00:00<00:00, 85.94it/s] "
     ]
    },
    {
     "name": "stdout",
     "output_type": "stream",
     "text": [
      "Epoch: 28, loss=0.03890, valid_auc=0.84795, train_auc=0.99991\n"
     ]
    },
    {
     "name": "stderr",
     "output_type": "stream",
     "text": [
      "\n",
      "119it [00:03, 39.62it/s]\n",
      "100%|██████████| 119/119 [00:01<00:00, 117.74it/s]\n",
      "100%|██████████| 40/40 [00:00<00:00, 90.60it/s] \n"
     ]
    },
    {
     "name": "stdout",
     "output_type": "stream",
     "text": [
      "\n",
      "Save Model\n",
      "Epoch: 29, loss=0.01607, valid_auc=0.85887, train_auc=0.99999\n"
     ]
    },
    {
     "name": "stderr",
     "output_type": "stream",
     "text": [
      "119it [00:02, 41.78it/s]\n",
      "100%|██████████| 119/119 [00:00<00:00, 119.60it/s]\n",
      "100%|██████████| 40/40 [00:00<00:00, 85.78it/s] \n"
     ]
    },
    {
     "name": "stdout",
     "output_type": "stream",
     "text": [
      "\n",
      "Save Model\n",
      "Epoch: 30, loss=0.00561, valid_auc=0.86046, train_auc=1.00000\n"
     ]
    },
    {
     "name": "stderr",
     "output_type": "stream",
     "text": [
      "119it [00:02, 40.71it/s]\n",
      "100%|██████████| 119/119 [00:00<00:00, 121.43it/s]\n",
      "100%|██████████| 40/40 [00:00<00:00, 87.52it/s] \n"
     ]
    },
    {
     "name": "stdout",
     "output_type": "stream",
     "text": [
      "\n",
      "Save Model\n",
      "Epoch: 31, loss=0.01105, valid_auc=0.86133, train_auc=1.00000\n"
     ]
    },
    {
     "name": "stderr",
     "output_type": "stream",
     "text": [
      "119it [00:02, 41.58it/s]\n",
      "100%|██████████| 119/119 [00:00<00:00, 120.95it/s]\n",
      "100%|██████████| 40/40 [00:00<00:00, 86.56it/s] "
     ]
    },
    {
     "name": "stdout",
     "output_type": "stream",
     "text": [
      "Epoch: 32, loss=0.00345, valid_auc=0.85394, train_auc=0.99991\n"
     ]
    },
    {
     "name": "stderr",
     "output_type": "stream",
     "text": [
      "\n",
      "119it [00:02, 41.34it/s]\n",
      "100%|██████████| 119/119 [00:00<00:00, 119.71it/s]\n",
      "100%|██████████| 40/40 [00:00<00:00, 87.50it/s] \n"
     ]
    },
    {
     "name": "stdout",
     "output_type": "stream",
     "text": [
      "\n",
      "Save Model\n",
      "Epoch: 33, loss=0.00833, valid_auc=0.86673, train_auc=1.00000\n"
     ]
    },
    {
     "name": "stderr",
     "output_type": "stream",
     "text": [
      "119it [00:02, 42.17it/s]\n",
      "100%|██████████| 119/119 [00:00<00:00, 119.83it/s]\n",
      "100%|██████████| 40/40 [00:00<00:00, 81.90it/s] \n"
     ]
    },
    {
     "name": "stdout",
     "output_type": "stream",
     "text": [
      "\n",
      "Save Model\n",
      "Epoch: 34, loss=0.00278, valid_auc=0.86765, train_auc=1.00000\n"
     ]
    },
    {
     "name": "stderr",
     "output_type": "stream",
     "text": [
      "119it [00:02, 40.80it/s]\n",
      "100%|██████████| 119/119 [00:01<00:00, 118.92it/s]\n",
      "100%|██████████| 40/40 [00:00<00:00, 88.39it/s] \n"
     ]
    },
    {
     "name": "stdout",
     "output_type": "stream",
     "text": [
      "\n",
      "Save Model\n",
      "Epoch: 35, loss=0.00080, valid_auc=0.86821, train_auc=1.00000\n"
     ]
    },
    {
     "name": "stderr",
     "output_type": "stream",
     "text": [
      "119it [00:02, 40.86it/s]\n",
      "100%|██████████| 119/119 [00:00<00:00, 125.28it/s]\n",
      "100%|██████████| 40/40 [00:00<00:00, 84.74it/s] \n"
     ]
    },
    {
     "name": "stdout",
     "output_type": "stream",
     "text": [
      "\n",
      "Save Model\n",
      "Epoch: 36, loss=0.00057, valid_auc=0.86842, train_auc=1.00000\n"
     ]
    },
    {
     "name": "stderr",
     "output_type": "stream",
     "text": [
      "119it [00:02, 40.99it/s]\n",
      "100%|██████████| 119/119 [00:00<00:00, 123.94it/s]\n",
      "100%|██████████| 40/40 [00:00<00:00, 81.43it/s] \n"
     ]
    },
    {
     "name": "stdout",
     "output_type": "stream",
     "text": [
      "\n",
      "Save Model\n",
      "Epoch: 37, loss=0.00067, valid_auc=0.86909, train_auc=1.00000\n"
     ]
    },
    {
     "name": "stderr",
     "output_type": "stream",
     "text": [
      "119it [00:02, 41.38it/s]\n",
      "100%|██████████| 119/119 [00:00<00:00, 127.60it/s]\n",
      "100%|██████████| 40/40 [00:00<00:00, 93.24it/s] \n"
     ]
    },
    {
     "name": "stdout",
     "output_type": "stream",
     "text": [
      "Epoch: 38, loss=0.00057, valid_auc=0.86907, train_auc=1.00000\n"
     ]
    },
    {
     "name": "stderr",
     "output_type": "stream",
     "text": [
      "119it [00:02, 41.52it/s]\n",
      "100%|██████████| 119/119 [00:00<00:00, 126.92it/s]\n",
      "100%|██████████| 40/40 [00:00<00:00, 82.17it/s] "
     ]
    },
    {
     "name": "stdout",
     "output_type": "stream",
     "text": [
      "Epoch: 39, loss=0.00059, valid_auc=0.86876, train_auc=1.00000\n"
     ]
    },
    {
     "name": "stderr",
     "output_type": "stream",
     "text": [
      "\n",
      "119it [00:02, 41.50it/s]\n",
      "100%|██████████| 119/119 [00:00<00:00, 122.09it/s]\n",
      "100%|██████████| 40/40 [00:00<00:00, 83.95it/s] "
     ]
    },
    {
     "name": "stdout",
     "output_type": "stream",
     "text": [
      "Epoch: 40, loss=0.00048, valid_auc=0.86887, train_auc=1.00000\n"
     ]
    },
    {
     "name": "stderr",
     "output_type": "stream",
     "text": [
      "\n",
      "119it [00:02, 41.33it/s]\n",
      "100%|██████████| 119/119 [00:00<00:00, 120.27it/s]\n",
      "100%|██████████| 40/40 [00:00<00:00, 87.86it/s] "
     ]
    },
    {
     "name": "stdout",
     "output_type": "stream",
     "text": [
      "Epoch: 41, loss=0.00066, valid_auc=0.86792, train_auc=1.00000\n"
     ]
    },
    {
     "name": "stderr",
     "output_type": "stream",
     "text": [
      "\n",
      "119it [00:02, 41.89it/s]\n",
      "100%|██████████| 119/119 [00:00<00:00, 123.82it/s]\n",
      "100%|██████████| 40/40 [00:00<00:00, 80.73it/s] \n"
     ]
    },
    {
     "name": "stdout",
     "output_type": "stream",
     "text": [
      "\n",
      "Save Model\n",
      "Epoch: 42, loss=0.00059, valid_auc=0.86924, train_auc=1.00000\n"
     ]
    },
    {
     "name": "stderr",
     "output_type": "stream",
     "text": [
      "119it [00:02, 40.57it/s]\n",
      "100%|██████████| 119/119 [00:00<00:00, 122.53it/s]\n",
      "100%|██████████| 40/40 [00:00<00:00, 91.81it/s] \n"
     ]
    },
    {
     "name": "stdout",
     "output_type": "stream",
     "text": [
      "Epoch: 43, loss=0.00085, valid_auc=0.86735, train_auc=1.00000\n"
     ]
    },
    {
     "name": "stderr",
     "output_type": "stream",
     "text": [
      "119it [00:02, 42.64it/s]\n",
      "100%|██████████| 119/119 [00:00<00:00, 126.81it/s]\n",
      "100%|██████████| 40/40 [00:00<00:00, 84.72it/s] \n"
     ]
    },
    {
     "name": "stdout",
     "output_type": "stream",
     "text": [
      "\n",
      "Save Model\n",
      "Epoch: 44, loss=0.00206, valid_auc=0.86938, train_auc=1.00000\n"
     ]
    },
    {
     "name": "stderr",
     "output_type": "stream",
     "text": [
      "119it [00:02, 42.44it/s]\n",
      "100%|██████████| 119/119 [00:00<00:00, 125.54it/s]\n",
      "100%|██████████| 40/40 [00:00<00:00, 84.30it/s] "
     ]
    },
    {
     "name": "stdout",
     "output_type": "stream",
     "text": [
      "Epoch: 45, loss=0.00070, valid_auc=0.86882, train_auc=1.00000\n"
     ]
    },
    {
     "name": "stderr",
     "output_type": "stream",
     "text": [
      "\n",
      "119it [00:02, 41.75it/s]\n",
      "100%|██████████| 119/119 [00:00<00:00, 119.64it/s]\n",
      "100%|██████████| 40/40 [00:00<00:00, 90.65it/s] \n"
     ]
    },
    {
     "name": "stdout",
     "output_type": "stream",
     "text": [
      "\n",
      "Save Model\n",
      "Epoch: 46, loss=0.00055, valid_auc=0.86948, train_auc=1.00000\n"
     ]
    },
    {
     "name": "stderr",
     "output_type": "stream",
     "text": [
      "119it [00:02, 40.53it/s]\n",
      "100%|██████████| 119/119 [00:01<00:00, 117.59it/s]\n",
      "100%|██████████| 40/40 [00:00<00:00, 87.60it/s] \n"
     ]
    },
    {
     "name": "stdout",
     "output_type": "stream",
     "text": [
      "\n",
      "Save Model\n",
      "Epoch: 47, loss=0.00052, valid_auc=0.87023, train_auc=1.00000\n"
     ]
    },
    {
     "name": "stderr",
     "output_type": "stream",
     "text": [
      "119it [00:02, 42.84it/s]\n",
      "100%|██████████| 119/119 [00:00<00:00, 120.43it/s]\n",
      "100%|██████████| 40/40 [00:00<00:00, 78.23it/s]"
     ]
    },
    {
     "name": "stdout",
     "output_type": "stream",
     "text": [
      "Epoch: 48, loss=0.00047, valid_auc=0.86964, train_auc=1.00000\n"
     ]
    },
    {
     "name": "stderr",
     "output_type": "stream",
     "text": [
      "\n",
      "119it [00:02, 40.98it/s]\n",
      "100%|██████████| 119/119 [00:00<00:00, 124.38it/s]\n",
      "100%|██████████| 40/40 [00:00<00:00, 86.67it/s] "
     ]
    },
    {
     "name": "stdout",
     "output_type": "stream",
     "text": [
      "Epoch: 49, loss=0.00047, valid_auc=0.86999, train_auc=1.00000\n"
     ]
    },
    {
     "name": "stderr",
     "output_type": "stream",
     "text": [
      "\n",
      "119it [00:02, 42.37it/s]\n",
      "100%|██████████| 119/119 [00:00<00:00, 123.51it/s]\n",
      "100%|██████████| 40/40 [00:00<00:00, 87.75it/s] "
     ]
    },
    {
     "name": "stdout",
     "output_type": "stream",
     "text": [
      "Epoch: 50, loss=0.00055, valid_auc=0.86985, train_auc=1.00000\n"
     ]
    },
    {
     "name": "stderr",
     "output_type": "stream",
     "text": [
      "\n",
      "119it [00:02, 41.98it/s]\n",
      "100%|██████████| 119/119 [00:00<00:00, 125.26it/s]\n",
      "100%|██████████| 40/40 [00:00<00:00, 87.92it/s] "
     ]
    },
    {
     "name": "stdout",
     "output_type": "stream",
     "text": [
      "Epoch: 51, loss=0.00048, valid_auc=0.86950, train_auc=1.00000\n"
     ]
    },
    {
     "name": "stderr",
     "output_type": "stream",
     "text": [
      "\n",
      "119it [00:02, 40.63it/s]\n",
      "100%|██████████| 119/119 [00:00<00:00, 121.20it/s]\n",
      "100%|██████████| 40/40 [00:00<00:00, 89.14it/s] "
     ]
    },
    {
     "name": "stdout",
     "output_type": "stream",
     "text": [
      "Epoch: 52, loss=0.00043, valid_auc=0.87019, train_auc=1.00000\n"
     ]
    },
    {
     "name": "stderr",
     "output_type": "stream",
     "text": [
      "\n",
      "119it [00:02, 42.38it/s]\n",
      "100%|██████████| 119/119 [00:00<00:00, 119.17it/s]\n",
      "100%|██████████| 40/40 [00:00<00:00, 82.50it/s] \n"
     ]
    },
    {
     "name": "stdout",
     "output_type": "stream",
     "text": [
      "\n",
      "Save Model\n",
      "Epoch: 53, loss=0.00051, valid_auc=0.87032, train_auc=1.00000\n"
     ]
    },
    {
     "name": "stderr",
     "output_type": "stream",
     "text": [
      "119it [00:03, 38.26it/s]\n",
      "100%|██████████| 119/119 [00:00<00:00, 123.32it/s]\n",
      "100%|██████████| 40/40 [00:00<00:00, 88.35it/s] \n"
     ]
    },
    {
     "name": "stdout",
     "output_type": "stream",
     "text": [
      "\n",
      "Save Model\n",
      "Epoch: 54, loss=0.00046, valid_auc=0.87044, train_auc=1.00000\n"
     ]
    },
    {
     "name": "stderr",
     "output_type": "stream",
     "text": [
      "119it [00:02, 40.66it/s]\n",
      "100%|██████████| 119/119 [00:01<00:00, 117.70it/s]\n",
      "100%|██████████| 40/40 [00:00<00:00, 81.19it/s] "
     ]
    },
    {
     "name": "stdout",
     "output_type": "stream",
     "text": [
      "Epoch: 55, loss=0.00044, valid_auc=0.86935, train_auc=1.00000\n"
     ]
    },
    {
     "name": "stderr",
     "output_type": "stream",
     "text": [
      "\n",
      "119it [00:02, 40.48it/s]\n",
      "100%|██████████| 119/119 [00:01<00:00, 116.57it/s]\n",
      "100%|██████████| 40/40 [00:00<00:00, 82.22it/s] "
     ]
    },
    {
     "name": "stdout",
     "output_type": "stream",
     "text": [
      "Epoch: 56, loss=0.00047, valid_auc=0.87026, train_auc=1.00000\n"
     ]
    },
    {
     "name": "stderr",
     "output_type": "stream",
     "text": [
      "\n",
      "119it [00:02, 40.57it/s]\n",
      "100%|██████████| 119/119 [00:00<00:00, 127.06it/s]\n",
      "100%|██████████| 40/40 [00:00<00:00, 91.44it/s] \n"
     ]
    },
    {
     "name": "stdout",
     "output_type": "stream",
     "text": [
      "\n",
      "Save Model\n",
      "Epoch: 57, loss=0.00041, valid_auc=0.87079, train_auc=1.00000\n"
     ]
    },
    {
     "name": "stderr",
     "output_type": "stream",
     "text": [
      "119it [00:03, 38.53it/s]\n",
      "100%|██████████| 119/119 [00:00<00:00, 122.39it/s]\n",
      "100%|██████████| 40/40 [00:00<00:00, 90.16it/s] "
     ]
    },
    {
     "name": "stdout",
     "output_type": "stream",
     "text": [
      "Epoch: 58, loss=0.00044, valid_auc=0.87036, train_auc=1.00000\n"
     ]
    },
    {
     "name": "stderr",
     "output_type": "stream",
     "text": [
      "\n",
      "119it [00:02, 40.91it/s]\n",
      "100%|██████████| 119/119 [00:00<00:00, 126.34it/s]\n",
      "100%|██████████| 40/40 [00:00<00:00, 88.84it/s] "
     ]
    },
    {
     "name": "stdout",
     "output_type": "stream",
     "text": [
      "Epoch: 59, loss=0.00041, valid_auc=0.87070, train_auc=1.00000\n"
     ]
    },
    {
     "name": "stderr",
     "output_type": "stream",
     "text": [
      "\n",
      "119it [00:02, 40.84it/s]\n",
      "100%|██████████| 119/119 [00:01<00:00, 117.08it/s]\n",
      "100%|██████████| 40/40 [00:00<00:00, 85.45it/s] "
     ]
    },
    {
     "name": "stdout",
     "output_type": "stream",
     "text": [
      "Epoch: 60, loss=0.00064, valid_auc=0.86978, train_auc=1.00000\n"
     ]
    },
    {
     "name": "stderr",
     "output_type": "stream",
     "text": [
      "\n",
      "119it [00:02, 43.69it/s]\n",
      "100%|██████████| 119/119 [00:00<00:00, 121.77it/s]\n",
      "100%|██████████| 40/40 [00:00<00:00, 87.42it/s] "
     ]
    },
    {
     "name": "stdout",
     "output_type": "stream",
     "text": [
      "Epoch: 61, loss=0.00050, valid_auc=0.86999, train_auc=1.00000\n"
     ]
    },
    {
     "name": "stderr",
     "output_type": "stream",
     "text": [
      "\n",
      "119it [00:02, 42.09it/s]\n",
      "100%|██████████| 119/119 [00:00<00:00, 123.66it/s]\n",
      "100%|██████████| 40/40 [00:00<00:00, 87.62it/s] "
     ]
    },
    {
     "name": "stdout",
     "output_type": "stream",
     "text": [
      "Epoch: 62, loss=0.00046, valid_auc=0.86991, train_auc=1.00000\n"
     ]
    },
    {
     "name": "stderr",
     "output_type": "stream",
     "text": [
      "\n",
      "80it [00:01, 42.89it/s]\n"
     ]
    },
    {
     "ename": "KeyboardInterrupt",
     "evalue": "",
     "output_type": "error",
     "traceback": [
      "\u001b[0;31m---------------------------------------------\u001b[0m",
      "\u001b[0;31mKeyboardInterrupt\u001b[0mTraceback (most recent call last)",
      "\u001b[0;32m<ipython-input-88-86aceb9bbb9a>\u001b[0m in \u001b[0;36m<module>\u001b[0;34m\u001b[0m\n\u001b[1;32m      2\u001b[0m \u001b[0;32mfor\u001b[0m \u001b[0mepoch\u001b[0m \u001b[0;32min\u001b[0m \u001b[0mrange\u001b[0m\u001b[0;34m(\u001b[0m\u001b[0;36m100\u001b[0m\u001b[0;34m)\u001b[0m\u001b[0;34m:\u001b[0m\u001b[0;34m\u001b[0m\u001b[0;34m\u001b[0m\u001b[0m\n\u001b[1;32m      3\u001b[0m \u001b[0;34m\u001b[0m\u001b[0m\n\u001b[0;32m----> 4\u001b[0;31m     \u001b[0mloss\u001b[0m \u001b[0;34m=\u001b[0m \u001b[0mtrain\u001b[0m\u001b[0;34m(\u001b[0m\u001b[0mmodel\u001b[0m\u001b[0;34m,\u001b[0m \u001b[0moptimizer\u001b[0m\u001b[0;34m,\u001b[0m \u001b[0mtrainloader\u001b[0m\u001b[0;34m,\u001b[0m \u001b[0mdevice\u001b[0m\u001b[0;34m)\u001b[0m\u001b[0;34m\u001b[0m\u001b[0;34m\u001b[0m\u001b[0m\n\u001b[0m\u001b[1;32m      5\u001b[0m     \u001b[0mtrain_auc\u001b[0m \u001b[0;34m=\u001b[0m \u001b[0mtest\u001b[0m\u001b[0;34m(\u001b[0m\u001b[0mmodel\u001b[0m\u001b[0;34m,\u001b[0m \u001b[0mtrainloader\u001b[0m\u001b[0;34m,\u001b[0m \u001b[0mdevice\u001b[0m\u001b[0;34m)\u001b[0m\u001b[0;34m\u001b[0m\u001b[0;34m\u001b[0m\u001b[0m\n\u001b[1;32m      6\u001b[0m     \u001b[0mauc\u001b[0m \u001b[0;34m=\u001b[0m \u001b[0mtest\u001b[0m\u001b[0;34m(\u001b[0m\u001b[0mmodel\u001b[0m\u001b[0;34m,\u001b[0m \u001b[0mvalidloader\u001b[0m\u001b[0;34m,\u001b[0m \u001b[0mdevice\u001b[0m\u001b[0;34m)\u001b[0m\u001b[0;34m\u001b[0m\u001b[0;34m\u001b[0m\u001b[0m\n",
      "\u001b[0;32m<ipython-input-85-f7af0855159b>\u001b[0m in \u001b[0;36mtrain\u001b[0;34m(model, optim, loader, device)\u001b[0m\n\u001b[1;32m     22\u001b[0m         \u001b[0mloss\u001b[0m \u001b[0;34m=\u001b[0m \u001b[0mtorch\u001b[0m\u001b[0;34m.\u001b[0m\u001b[0mnn\u001b[0m\u001b[0;34m.\u001b[0m\u001b[0mBCELoss\u001b[0m\u001b[0;34m(\u001b[0m\u001b[0;34m)\u001b[0m\u001b[0;34m(\u001b[0m\u001b[0mpred\u001b[0m\u001b[0;34m,\u001b[0m \u001b[0mlabel\u001b[0m\u001b[0;34m)\u001b[0m\u001b[0;34m\u001b[0m\u001b[0;34m\u001b[0m\u001b[0m\n\u001b[1;32m     23\u001b[0m \u001b[0;34m\u001b[0m\u001b[0m\n\u001b[0;32m---> 24\u001b[0;31m         \u001b[0mloss\u001b[0m\u001b[0;34m.\u001b[0m\u001b[0mbackward\u001b[0m\u001b[0;34m(\u001b[0m\u001b[0;34m)\u001b[0m\u001b[0;34m\u001b[0m\u001b[0;34m\u001b[0m\u001b[0m\n\u001b[0m\u001b[1;32m     25\u001b[0m         \u001b[0moptim\u001b[0m\u001b[0;34m.\u001b[0m\u001b[0mstep\u001b[0m\u001b[0;34m(\u001b[0m\u001b[0;34m)\u001b[0m\u001b[0;34m\u001b[0m\u001b[0;34m\u001b[0m\u001b[0m\n\u001b[1;32m     26\u001b[0m \u001b[0;34m\u001b[0m\u001b[0m\n",
      "\u001b[0;32m~/anaconda3/envs/june/lib/python3.7/site-packages/torch/tensor.py\u001b[0m in \u001b[0;36mbackward\u001b[0;34m(self, gradient, retain_graph, create_graph)\u001b[0m\n\u001b[1;32m    219\u001b[0m                 \u001b[0mretain_graph\u001b[0m\u001b[0;34m=\u001b[0m\u001b[0mretain_graph\u001b[0m\u001b[0;34m,\u001b[0m\u001b[0;34m\u001b[0m\u001b[0;34m\u001b[0m\u001b[0m\n\u001b[1;32m    220\u001b[0m                 create_graph=create_graph)\n\u001b[0;32m--> 221\u001b[0;31m         \u001b[0mtorch\u001b[0m\u001b[0;34m.\u001b[0m\u001b[0mautograd\u001b[0m\u001b[0;34m.\u001b[0m\u001b[0mbackward\u001b[0m\u001b[0;34m(\u001b[0m\u001b[0mself\u001b[0m\u001b[0;34m,\u001b[0m \u001b[0mgradient\u001b[0m\u001b[0;34m,\u001b[0m \u001b[0mretain_graph\u001b[0m\u001b[0;34m,\u001b[0m \u001b[0mcreate_graph\u001b[0m\u001b[0;34m)\u001b[0m\u001b[0;34m\u001b[0m\u001b[0;34m\u001b[0m\u001b[0m\n\u001b[0m\u001b[1;32m    222\u001b[0m \u001b[0;34m\u001b[0m\u001b[0m\n\u001b[1;32m    223\u001b[0m     \u001b[0;32mdef\u001b[0m \u001b[0mregister_hook\u001b[0m\u001b[0;34m(\u001b[0m\u001b[0mself\u001b[0m\u001b[0;34m,\u001b[0m \u001b[0mhook\u001b[0m\u001b[0;34m)\u001b[0m\u001b[0;34m:\u001b[0m\u001b[0;34m\u001b[0m\u001b[0;34m\u001b[0m\u001b[0m\n",
      "\u001b[0;32m~/anaconda3/envs/june/lib/python3.7/site-packages/torch/autograd/__init__.py\u001b[0m in \u001b[0;36mbackward\u001b[0;34m(tensors, grad_tensors, retain_graph, create_graph, grad_variables)\u001b[0m\n\u001b[1;32m    130\u001b[0m     Variable._execution_engine.run_backward(\n\u001b[1;32m    131\u001b[0m         \u001b[0mtensors\u001b[0m\u001b[0;34m,\u001b[0m \u001b[0mgrad_tensors_\u001b[0m\u001b[0;34m,\u001b[0m \u001b[0mretain_graph\u001b[0m\u001b[0;34m,\u001b[0m \u001b[0mcreate_graph\u001b[0m\u001b[0;34m,\u001b[0m\u001b[0;34m\u001b[0m\u001b[0;34m\u001b[0m\u001b[0m\n\u001b[0;32m--> 132\u001b[0;31m         allow_unreachable=True)  # allow_unreachable flag\n\u001b[0m\u001b[1;32m    133\u001b[0m \u001b[0;34m\u001b[0m\u001b[0m\n\u001b[1;32m    134\u001b[0m \u001b[0;34m\u001b[0m\u001b[0m\n",
      "\u001b[0;31mKeyboardInterrupt\u001b[0m: "
     ]
    }
   ],
   "source": [
    "valid_auc = 0\n",
    "for epoch in range(100):\n",
    "\n",
    "    loss = train(model, optimizer, trainloader, device)\n",
    "    train_auc = test(model, trainloader, device)\n",
    "    auc = test(model, validloader, device)\n",
    "   \n",
    "    if auc > valid_auc:\n",
    "        valid_auc = auc\n",
    "        \n",
    "        checkpoint = {\n",
    "            'model_stat': model.state_dict(),\n",
    "            'optimizer_stat': optimizer.state_dict(),\n",
    "        }\n",
    "        \n",
    "        torch.save(checkpoint, os.path.join(root, \"results\", dataset, \"conv\", \"weight.pth\"))\n",
    "        print(\"\\nSave Model\")\n",
    "    \n",
    "    print(\"Epoch: {}, loss={:.5f}, valid_auc={:.5f}, train_auc={:.5f}\".format(epoch+1, loss, auc, train_auc))\n",
    "    "
   ]
  },
  {
   "cell_type": "code",
   "execution_count": 89,
   "id": "minimal-evolution",
   "metadata": {},
   "outputs": [
    {
     "name": "stdout",
     "output_type": "stream",
     "text": [
      "Embedding(877, 97)\n",
      "pretrained finded\n"
     ]
    }
   ],
   "source": [
    "model, optimizer = load_checkpoint(os.path.join(root, \"results\", dataset, \"conv\", \"weight.pth\"), device=device)"
   ]
  },
  {
   "cell_type": "code",
   "execution_count": 90,
   "id": "angry-privacy",
   "metadata": {},
   "outputs": [
    {
     "name": "stderr",
     "output_type": "stream",
     "text": [
      "100%|██████████| 21/21 [00:00<00:00, 61.72it/s]\n"
     ]
    }
   ],
   "source": [
    "pred = predict(model, testloader, device)"
   ]
  },
  {
   "cell_type": "code",
   "execution_count": 91,
   "id": "complicated-oklahoma",
   "metadata": {},
   "outputs": [
    {
     "data": {
      "text/plain": [
       "array([9.99296665e-01, 9.99974608e-01, 9.99904752e-01, 9.81246769e-01,\n",
       "       9.41093604e-05, 3.11104268e-05, 9.99999166e-01, 2.24112961e-02,\n",
       "       9.99894381e-01, 9.99646306e-01, 4.32964180e-06, 9.97670829e-01,\n",
       "       2.91336537e-03, 9.98132527e-01, 4.62299140e-05, 9.99988914e-01,\n",
       "       1.76502326e-07, 9.99999762e-01, 1.65335496e-03, 9.99194682e-01,\n",
       "       1.00000000e+00, 9.99995828e-01, 9.99987245e-01, 3.67666507e-04,\n",
       "       2.47902626e-05, 9.99567568e-01, 9.99998808e-01, 2.89711033e-06,\n",
       "       9.99994516e-01, 9.99999881e-01, 9.98152077e-01, 9.99993324e-01,\n",
       "       4.22160685e-01, 9.99997497e-01, 9.99997377e-01, 9.99977469e-01,\n",
       "       1.86935576e-05, 9.99999762e-01, 9.99999881e-01, 9.99915004e-01,\n",
       "       9.99989629e-01, 9.99951839e-01, 9.97748911e-01, 8.24332631e-07,\n",
       "       7.14886427e-01, 5.42289818e-05, 9.99966025e-01, 3.76991329e-06,\n",
       "       9.99999642e-01, 2.09501650e-05, 9.99803841e-01, 5.23268938e-01,\n",
       "       3.84405375e-01, 3.82165535e-06, 9.99978065e-01, 8.77665798e-07,\n",
       "       9.99996185e-01, 1.70437329e-06, 9.99991298e-01, 9.99945879e-01,\n",
       "       9.98872101e-01, 6.03945082e-05, 1.23462769e-08, 2.34006831e-04,\n",
       "       1.50878564e-04, 9.66987967e-01, 7.11301254e-06, 9.99107540e-01,\n",
       "       9.76037979e-01, 4.49779800e-05, 1.11407480e-05, 9.97599304e-01,\n",
       "       2.10085473e-05, 6.68419816e-05, 9.99964833e-01, 1.98760448e-04,\n",
       "       9.99999762e-01, 9.99994278e-01, 9.99992013e-01, 9.99710023e-01,\n",
       "       9.62503612e-01, 2.05294464e-06, 1.59370156e-05, 9.99999404e-01,\n",
       "       9.99998331e-01, 3.79211342e-05, 9.99935389e-01, 4.52827699e-05,\n",
       "       9.99823034e-01, 1.70217114e-04, 9.99999523e-01, 7.85238808e-05,\n",
       "       9.34251249e-02, 1.77546626e-05, 4.01678744e-06, 1.25880842e-05,\n",
       "       9.99985814e-01, 3.78178214e-07, 7.71260560e-01, 2.14597192e-02,\n",
       "       9.99988317e-01, 8.14461382e-04, 3.74224871e-01, 9.99973178e-01,\n",
       "       9.99997616e-01, 9.99885798e-01, 6.65353060e-01, 3.69863629e-01,\n",
       "       9.99997139e-01, 9.99995828e-01, 9.99753773e-01, 3.27037206e-08,\n",
       "       4.65646772e-05, 9.99991179e-01, 7.59336710e-01, 9.68382418e-01,\n",
       "       9.99998569e-01, 4.52192126e-06, 9.99999285e-01, 9.99999523e-01,\n",
       "       5.41546615e-04, 3.00759962e-03, 4.50713669e-05, 9.99997735e-01,\n",
       "       4.48280945e-04, 1.26859422e-05, 2.29334764e-05, 9.99980569e-01,\n",
       "       5.96809768e-05, 9.99935508e-01, 9.99358952e-01, 1.45089507e-04,\n",
       "       9.98422384e-01, 1.39171602e-02, 9.99999046e-01, 9.99950767e-01,\n",
       "       3.78214376e-04, 9.99369800e-01, 3.66261080e-02, 9.99991417e-01,\n",
       "       1.21906760e-06, 1.36705626e-06, 9.99993920e-01, 9.99994040e-01,\n",
       "       1.23869595e-05, 5.40294801e-04, 9.99757230e-01, 1.44092262e-01,\n",
       "       1.00000000e+00, 9.99993443e-01, 9.99999523e-01, 9.99997377e-01,\n",
       "       9.72147703e-01, 6.39966129e-06, 1.30205527e-01, 9.99999762e-01,\n",
       "       9.99996781e-01, 9.99999762e-01, 5.19717275e-07, 3.31097079e-04,\n",
       "       1.94565218e-03, 9.99887586e-01, 1.96013250e-04, 1.99467323e-07,\n",
       "       9.99166727e-01, 9.99860048e-01, 5.36126947e-07, 3.32908094e-05,\n",
       "       9.99953151e-01, 2.23459047e-05, 9.99998808e-01, 1.72914192e-01,\n",
       "       9.99999881e-01, 2.29557754e-05, 2.61074310e-04, 9.97944176e-01,\n",
       "       9.99923229e-01, 9.99989390e-01, 9.93316770e-01, 9.99999404e-01,\n",
       "       6.19411410e-04, 9.99988794e-01, 9.99996662e-01, 9.32484269e-01,\n",
       "       4.05305415e-01, 9.77427900e-01, 9.99999404e-01, 9.99999404e-01,\n",
       "       9.99964237e-01, 9.18853446e-04, 2.46839985e-01, 9.97364581e-01,\n",
       "       9.99658108e-01, 9.58773959e-03, 1.19730862e-06, 1.18432592e-06,\n",
       "       9.97464657e-01, 3.67915720e-01, 1.00000000e+00, 2.23068446e-06,\n",
       "       9.99977946e-01, 9.99996781e-01, 3.92756147e-06, 3.86776228e-05,\n",
       "       9.99971986e-01, 9.99999762e-01, 5.88909534e-05, 9.99951839e-01,\n",
       "       8.69364291e-03, 9.99974847e-01, 9.99995351e-01, 1.15061455e-04,\n",
       "       9.99989867e-01, 5.51893318e-05, 8.92189855e-05, 9.99812186e-01,\n",
       "       3.51326744e-05, 9.99904513e-01, 3.63358777e-05, 5.69678093e-07,\n",
       "       2.72522029e-02, 5.72893332e-05, 9.99944687e-01, 9.99992728e-01,\n",
       "       9.96047318e-01, 2.57520378e-03, 2.03571409e-01, 7.42397130e-01,\n",
       "       9.98897910e-01, 5.94292487e-07, 9.99998808e-01, 2.61913186e-07,\n",
       "       1.00000000e+00, 1.08908571e-05, 9.99999523e-01, 2.84940720e-01,\n",
       "       2.23676625e-06, 2.05366359e-05, 9.99998689e-01, 9.99593675e-01,\n",
       "       9.99145269e-01, 9.76512074e-01, 9.66362715e-01, 3.43433901e-04,\n",
       "       9.09848571e-01, 3.68001405e-03, 3.53011251e-06, 9.99999404e-01,\n",
       "       3.94826174e-01, 1.59806419e-07, 9.99783337e-01, 1.37208544e-05,\n",
       "       2.74416467e-04, 9.99996305e-01, 1.66382324e-06, 9.99958158e-01,\n",
       "       5.52460961e-02, 3.24154535e-04, 7.92754889e-01, 1.92520076e-07,\n",
       "       9.99999166e-01, 9.99930501e-01, 9.97576654e-01, 2.20474714e-04,\n",
       "       9.99867082e-01, 8.78249228e-01, 7.74293393e-02, 9.98965979e-01,\n",
       "       9.99823511e-01, 3.73888016e-02, 9.99968290e-01, 1.17949792e-04,\n",
       "       9.99999762e-01, 3.36839520e-07, 6.47336762e-08, 9.98294175e-01,\n",
       "       6.18945342e-05, 1.61213520e-05, 9.99293566e-01, 1.60285766e-04,\n",
       "       1.57654324e-06, 9.81991827e-01, 9.99918938e-01, 1.00000000e+00,\n",
       "       9.99997497e-01, 9.99262989e-01, 9.80444789e-01, 9.99440968e-01,\n",
       "       1.75229536e-04, 9.99994874e-01, 9.99992847e-01, 9.99999642e-01,\n",
       "       9.99829412e-01, 2.59187909e-05, 2.31899844e-06, 9.00978921e-05,\n",
       "       8.88279101e-06, 2.03087006e-06, 9.99945521e-01, 1.00000000e+00,\n",
       "       9.95299041e-01, 9.99907017e-01, 4.27947185e-07, 1.74813683e-03,\n",
       "       6.17320839e-05, 3.30923917e-03, 9.99973774e-01, 1.30816697e-04,\n",
       "       9.99891758e-01, 5.62569994e-06, 1.62500029e-07, 9.99935746e-01,\n",
       "       9.99943256e-01, 1.78121170e-03, 2.73654905e-07, 9.99998689e-01,\n",
       "       1.00000000e+00, 1.54390465e-04, 9.99893546e-01, 1.70727617e-05,\n",
       "       1.51281059e-02, 3.22534675e-07, 9.99713957e-01, 5.04363769e-08,\n",
       "       4.18001378e-04, 6.86696410e-01, 1.59505963e-01, 9.99901772e-01,\n",
       "       9.99410152e-01, 6.25183642e-01, 9.99981165e-01, 1.36692226e-01,\n",
       "       9.97393847e-01, 9.99907613e-01, 8.52322728e-07, 3.56709788e-05,\n",
       "       9.99944568e-01, 9.99993443e-01, 9.84051585e-01, 3.72807868e-02,\n",
       "       5.49470494e-03, 9.99878407e-01, 9.99874711e-01, 9.99968529e-01,\n",
       "       1.51929734e-02, 9.99982476e-01, 4.58203685e-05, 9.99986053e-01,\n",
       "       9.99995708e-01, 9.99998212e-01, 3.42965620e-07, 3.13287927e-07,\n",
       "       9.99991775e-01, 9.99968171e-01, 9.89705026e-01, 9.27498102e-01,\n",
       "       9.99995828e-01, 8.59150350e-06, 9.99992251e-01, 2.67488480e-01,\n",
       "       9.99173820e-01, 9.65557396e-01, 9.52176988e-01, 4.19992796e-09,\n",
       "       4.55782720e-04, 6.27482831e-01, 9.99998331e-01, 5.01081523e-08,\n",
       "       2.49819685e-04, 9.99997258e-01, 1.83588068e-04, 8.69294349e-03,\n",
       "       2.39415863e-06, 9.99980450e-01, 9.99983311e-01, 9.97406185e-01,\n",
       "       9.99977469e-01, 9.99999166e-01, 1.73822716e-08, 2.81989912e-07,\n",
       "       1.39622221e-04, 3.67329596e-03, 9.99996185e-01, 9.99937296e-01,\n",
       "       9.99833584e-01, 3.13865312e-04, 1.42540459e-08, 7.40021514e-03,\n",
       "       1.71383334e-04, 4.39242976e-05, 9.98506486e-01, 1.32236665e-03,\n",
       "       5.99554078e-05, 2.38354914e-05, 1.82477470e-06, 8.01600618e-06,\n",
       "       9.99993443e-01, 9.94471312e-01, 9.99590933e-01, 9.99981999e-01,\n",
       "       4.90798338e-05, 9.63738799e-01, 9.99928117e-01, 2.74977060e-06,\n",
       "       2.48911092e-05, 9.99999523e-01, 9.99999285e-01, 9.99987483e-01,\n",
       "       9.99999523e-01, 9.99132216e-01, 2.37891125e-03, 9.99999285e-01,\n",
       "       9.99998808e-01, 8.34848166e-01, 6.57727696e-07, 9.99977946e-01,\n",
       "       9.99902010e-01, 9.99994516e-01, 9.96429503e-01, 9.99152303e-01,\n",
       "       9.99994278e-01, 9.97436583e-01, 9.99956727e-01, 6.10085030e-04,\n",
       "       9.99999046e-01, 6.05551293e-03, 6.20825100e-04, 1.82518534e-06,\n",
       "       1.41760920e-05, 9.99939680e-01, 9.94827092e-01, 4.24502464e-03,\n",
       "       4.14536629e-07, 2.72377074e-04, 9.99987245e-01, 9.99997020e-01,\n",
       "       2.29682072e-07, 3.83968427e-06, 8.92472883e-07, 9.99998808e-01,\n",
       "       3.22009884e-02, 9.99997854e-01, 1.24101061e-04, 1.34892727e-03,\n",
       "       4.96027451e-06, 1.00000000e+00, 1.31344586e-05, 9.96665180e-01,\n",
       "       2.96501828e-08, 9.99949694e-01, 6.97485805e-02, 9.92695451e-01,\n",
       "       9.99988079e-01, 9.99999285e-01, 9.99999285e-01, 9.68689263e-01,\n",
       "       9.99935150e-01, 1.12408385e-01, 1.01987860e-06, 9.99998569e-01,\n",
       "       1.15527399e-03, 9.99999404e-01, 8.07249380e-05, 6.72066817e-05,\n",
       "       3.92322108e-05, 6.58195794e-01, 4.46145204e-05, 1.28077678e-04,\n",
       "       9.99868035e-01, 9.99999523e-01, 3.56086937e-04, 9.99645591e-01,\n",
       "       9.99997616e-01, 9.76428092e-01, 7.39909941e-04, 9.99992609e-01,\n",
       "       9.99676347e-01, 9.99997735e-01, 5.84243071e-06, 9.99996185e-01,\n",
       "       9.99995112e-01, 9.99995828e-01, 9.99931216e-01, 1.00000000e+00,\n",
       "       9.99995947e-01, 3.35181539e-07, 9.98066247e-01, 1.00000000e+00,\n",
       "       9.99681473e-01, 1.00000000e+00, 1.95043111e-08, 5.15765169e-06,\n",
       "       6.92670408e-04, 9.99998927e-01, 2.54326678e-05, 9.99999762e-01,\n",
       "       9.99393225e-01, 9.99999285e-01, 5.77096671e-07, 9.98560607e-01,\n",
       "       7.75785168e-07, 9.99966979e-01, 3.91957536e-03, 4.86153795e-06,\n",
       "       7.84925938e-01, 9.99999404e-01, 9.66973722e-01, 2.90383381e-04,\n",
       "       6.25264656e-05, 5.10395225e-03, 6.59208235e-05, 9.80073273e-01,\n",
       "       9.99802291e-01, 9.99652505e-01, 8.44780573e-07, 2.40848721e-07,\n",
       "       2.60328434e-05, 2.47676962e-05, 1.92982952e-05, 4.34744798e-05,\n",
       "       2.76617497e-01, 9.99993443e-01, 1.31264812e-06, 1.44226096e-05,\n",
       "       9.99800861e-01, 7.86987414e-07, 8.37256493e-07, 9.28409211e-03,\n",
       "       9.99673247e-01, 9.99982953e-01, 7.76620000e-04, 6.62842691e-01,\n",
       "       1.73799857e-01, 5.55433750e-01, 9.99773204e-01, 2.46906038e-05,\n",
       "       7.12684868e-03, 9.99976158e-01, 9.99999166e-01, 9.47617531e-01,\n",
       "       9.79122639e-01, 9.99989033e-01, 1.44406170e-01, 9.94278073e-01,\n",
       "       1.00000000e+00, 9.99999642e-01, 8.30181420e-01, 9.99999046e-01,\n",
       "       3.15714180e-01, 9.97205913e-01, 9.99961376e-01, 4.99905902e-04,\n",
       "       2.77294638e-03, 9.99999285e-01, 3.04774335e-06, 1.00000000e+00,\n",
       "       1.78984963e-04, 9.98030245e-01, 1.00000000e+00, 3.52387869e-04,\n",
       "       1.14677539e-06, 1.67140213e-04, 9.98314023e-01, 3.29378878e-07,\n",
       "       7.16919089e-07, 9.99924064e-01, 2.58194941e-05, 1.95019832e-03,\n",
       "       4.38372354e-07, 1.25035673e-01, 9.99995828e-01, 9.99954820e-01,\n",
       "       2.37977438e-04, 9.99999881e-01, 2.25688498e-02, 9.59107339e-01,\n",
       "       9.98414755e-01, 2.43515206e-06, 3.44020846e-05, 9.75305557e-01,\n",
       "       9.99998927e-01, 9.80066299e-01, 9.99999523e-01, 9.99972582e-01,\n",
       "       1.62488595e-03, 7.63338089e-01, 9.99999881e-01, 5.01602608e-06,\n",
       "       9.99993801e-01, 5.63244294e-06, 9.99940395e-01, 3.12515027e-07,\n",
       "       2.55501382e-02, 9.61261630e-01, 9.99999404e-01, 9.99984860e-01,\n",
       "       9.99980450e-01, 1.09997217e-03, 4.97009787e-05, 9.99789655e-01,\n",
       "       1.00000000e+00, 9.96677876e-01, 9.25357699e-01, 2.76408885e-02,\n",
       "       1.05448062e-05, 9.99999523e-01, 9.99978781e-01, 3.76867283e-05,\n",
       "       9.56332588e-05, 9.94097710e-01, 1.51100132e-04, 8.33709294e-07,\n",
       "       3.76225123e-03, 9.97793198e-01, 3.91717441e-03, 9.99911427e-01,\n",
       "       5.93706727e-01, 9.99983549e-01, 9.99901175e-01, 1.55867679e-06,\n",
       "       2.93387752e-03, 8.28360856e-01, 1.13255759e-04, 9.71033394e-01,\n",
       "       9.99988317e-01, 3.38399346e-04, 9.62191494e-04, 9.99999762e-01,\n",
       "       9.99996424e-01, 9.99979377e-01, 1.85498653e-03, 9.99978900e-01,\n",
       "       2.03833726e-04, 9.99965429e-01, 5.17661683e-05, 1.17766956e-06,\n",
       "       1.96559381e-06, 6.51501656e-01, 9.99994636e-01, 1.26839882e-06,\n",
       "       9.99476135e-01, 1.47616316e-04, 4.06132841e-07, 9.99994993e-01],\n",
       "      dtype=float32)"
      ]
     },
     "execution_count": 91,
     "metadata": {},
     "output_type": "execute_result"
    }
   ],
   "source": [
    "pred = pred.detach().cpu().numpy()\n",
    "# pred = np.round(pred, 3)\n",
    "pred"
   ]
  },
  {
   "cell_type": "code",
   "execution_count": 92,
   "id": "baking-immigration",
   "metadata": {},
   "outputs": [],
   "source": [
    "test_df[\"prob\"] = pred\n",
    "test_df.to_csv(\"conv_all.csv\", index=False)"
   ]
  },
  {
   "cell_type": "code",
   "execution_count": 93,
   "id": "threaded-notebook",
   "metadata": {},
   "outputs": [],
   "source": [
    "upload = test_df[[\"id\", \"prob\"]]\n",
    "upload.to_csv(\"upload.csv\", index=False)"
   ]
  },
  {
   "cell_type": "code",
   "execution_count": null,
   "id": "accepting-israeli",
   "metadata": {},
   "outputs": [],
   "source": []
  }
 ],
 "metadata": {
  "kernelspec": {
   "display_name": "Python 3",
   "language": "python",
   "name": "python3"
  },
  "language_info": {
   "codemirror_mode": {
    "name": "ipython",
    "version": 3
   },
   "file_extension": ".py",
   "mimetype": "text/x-python",
   "name": "python",
   "nbconvert_exporter": "python",
   "pygments_lexer": "ipython3",
   "version": "3.7.9"
  }
 },
 "nbformat": 4,
 "nbformat_minor": 5
}
