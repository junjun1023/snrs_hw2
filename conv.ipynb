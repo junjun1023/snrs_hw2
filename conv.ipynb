{
 "cells": [
  {
   "cell_type": "code",
   "execution_count": 94,
   "id": "purple-blast",
   "metadata": {},
   "outputs": [],
   "source": [
    "import math\n",
    "import random\n",
    "import os.path as osp\n",
    "\n",
    "\n",
    "import os\n",
    "import pandas as pd\n",
    "\n",
    "from torch import Tensor\n",
    "\n",
    "import numpy as np\n",
    "\n",
    "import torch\n",
    "import torch.nn as nn\n",
    "import torch.nn.functional as F\n",
    "from torch.nn.parameter import Parameter\n",
    "\n",
    "from torch.utils.data import Dataset as BaseDataset\n",
    "from torch.utils.data import DataLoader\n",
    "\n",
    "from tqdm import tqdm\n",
    "from datetime import datetime\n",
    "\n",
    "from sklearn.model_selection import train_test_split"
   ]
  },
  {
   "cell_type": "code",
   "execution_count": 95,
   "id": "aggressive-baseball",
   "metadata": {},
   "outputs": [],
   "source": [
    "class BasicBlock(nn.Module):\n",
    "    def __init__(self, in_channels, out_channels, stride=1, dilation=1):\n",
    "        super(BasicBlock, self).__init__()\n",
    "        self.conv1 = nn.Conv2d(in_channels, out_channels,\n",
    "                               kernel_size=3, padding=1, stride=stride)\n",
    "        self.conv2 = nn.Conv2d(out_channels, out_channels,\n",
    "                               kernel_size=3, padding=1)\n",
    "        self.bn1 = nn.BatchNorm2d(num_features=out_channels)\n",
    "        self.bn2 = nn.BatchNorm2d(num_features=out_channels)\n",
    "        self.relu = nn.ReLU(inplace=True)\n",
    "\n",
    "        # one kernel make one feature map\n",
    "        # kernel 厚度 = channel 數\n",
    "        self.is_changed = in_channels != out_channels\n",
    "        self.trans = nn.Conv2d(in_channels, out_channels,\n",
    "                               kernel_size=1, stride=stride)\n",
    "\n",
    "    def forward(self, x):\n",
    "        f_x = self.conv1(x)\n",
    "        f_x = self.bn1(f_x)\n",
    "        f_x = self.relu(f_x)\n",
    "        f_x = self.conv2(f_x)\n",
    "        f_x = self.bn2(f_x)\n",
    "\n",
    "        if self.is_changed:\n",
    "            x = self.trans(x)\n",
    "\n",
    "        x = f_x + x\n",
    "        x = self.relu(x)\n",
    "        return x\n",
    "\n",
    "\n",
    "class BottleNeck(nn.Module):\n",
    "\n",
    "    def __init__(self, in_channels, out_channels, stride=1, dilation=4):\n",
    "        super(BottleNeck, self).__init__()\n",
    "        self.conv1 = nn.Conv2d(\n",
    "            in_channels=in_channels, out_channels=out_channels, kernel_size=1, stride=stride, padding=0)\n",
    "        self.conv2 = nn.Conv2d(\n",
    "            in_channels=out_channels, out_channels=out_channels, kernel_size=3, padding=1)\n",
    "        self.conv3 = nn.Conv2d(\n",
    "            in_channels=out_channels, out_channels=dilation*out_channels, kernel_size=1, padding=0)\n",
    "\n",
    "        self.bn1 = nn.BatchNorm2d(num_features=out_channels)\n",
    "        self.bn2 = nn.BatchNorm2d(num_features=out_channels)\n",
    "        self.bn3 = nn.BatchNorm2d(num_features=out_channels * dilation)\n",
    "\n",
    "        self.relu = nn.ReLU(inplace=True)\n",
    "\n",
    "        # one kernel make one feature map\n",
    "        # kernel 厚度 = channel 數\n",
    "        self.is_changed = in_channels != (out_channels*dilation)\n",
    "        self.trans = nn.Conv2d(in_channels, out_channels *\n",
    "                               dilation, kernel_size=1, stride=stride)\n",
    "\n",
    "    def forward(self, x):\n",
    "\n",
    "        f_x = self.conv1(x)\n",
    "        f_x = self.bn1(f_x)\n",
    "        f_x = self.relu(f_x)\n",
    "        f_x = self.conv2(f_x)\n",
    "        f_x = self.bn2(f_x)\n",
    "        f_x = self.relu(f_x)\n",
    "        f_x = self.conv3(f_x)\n",
    "        f_x = self.bn3(f_x)\n",
    "\n",
    "        if self.is_changed:\n",
    "            x = self.trans(x)\n",
    "\n",
    "        x = f_x + x\n",
    "        x = self.relu(x)\n",
    "        return x\n",
    "\n",
    "\n",
    "class _ResNet(nn.Module):\n",
    "    def __init__(self, block, block_cnts, dilation=1):\n",
    "        super(_ResNet, self).__init__()\n",
    "\n",
    "        self.in_channels = 64\n",
    "        self.out_channels = 64\n",
    "\n",
    "        self.conv1 = nn.Conv2d(\n",
    "            in_channels=1, out_channels=self.in_channels, kernel_size=7, stride=2, padding=3)\n",
    "        self.max_pool = nn.MaxPool2d(kernel_size=3, stride=2, padding=1)\n",
    "\n",
    "        self.layer1 = self._layer(\n",
    "            block, block_cnts[0], dilation, self.in_channels, self.out_channels, stride=1)\n",
    "        self.layer2 = self._layer(\n",
    "            block, block_cnts[1], dilation, self.in_channels, self.out_channels, stride=2)\n",
    "        self.layer3 = self._layer(\n",
    "            block, block_cnts[2], dilation, self.in_channels, self.out_channels, stride=2)\n",
    "        self.layer4 = self._layer(\n",
    "            block, block_cnts[3], dilation, self.in_channels, self.out_channels, stride=2)\n",
    "\n",
    "        self.avg = nn.AdaptiveAvgPool2d(output_size=(1, 1))\n",
    "\n",
    "        self.dense = nn.Linear(in_features=self.in_channels, out_features=1)\n",
    "        self.activation = nn.Sigmoid()\n",
    "        self.flatten = nn.Flatten(start_dim=1)\n",
    "\n",
    "    def _layer(self, block, block_cnt, dilation, in_channels, out_channels, stride):\n",
    "        # in_channels: param of previous block output channel\n",
    "        # out_channels: param of current block input channel\n",
    "\n",
    "        blocks = []\n",
    "        blocks.append(\n",
    "            block(in_channels=in_channels,\n",
    "                  out_channels=out_channels, stride=stride)\n",
    "        )\n",
    "\n",
    "        for cnt in range(1, block_cnt):\n",
    "            b = block(in_channels=dilation * out_channels,\n",
    "                      out_channels=out_channels)\n",
    "            blocks.append(b)\n",
    "\n",
    "        self.in_channels = out_channels * dilation\n",
    "        self.out_channels = out_channels * 2\n",
    "\n",
    "        return nn.Sequential(*blocks)\n",
    "\n",
    "    def forward(self, x):\n",
    "        x = self.conv1(x)\n",
    "        x = self.max_pool(x)\n",
    "        x = self.layer1(x)\n",
    "        x = self.layer2(x)\n",
    "        x = self.layer3(x)\n",
    "        x = self.layer4(x)\n",
    "\n",
    "        x = self.avg(x)\n",
    "\n",
    "        x = self.flatten(x)\n",
    "        x = self.dense(x)\n",
    "\n",
    "        x = self.activation(x)\n",
    "        return x"
   ]
  },
  {
   "cell_type": "code",
   "execution_count": 112,
   "id": "iraqi-shape",
   "metadata": {},
   "outputs": [],
   "source": [
    "root = os.getcwd()\n",
    "\n",
    "dataset = \"dataset1\"\n",
    "date_time = datetime.strftime(datetime.now(), \"%Y-%m-%d_%H-%M\")\n",
    "\n",
    "### dataset 1\n",
    "# num_ent = 2708\n",
    "# feat_len = 1433\n",
    "# embed_dim = 1600\n",
    "\n",
    "### dataset 2\n",
    "# num_ent = 3312\n",
    "# embed_dim = 4000\n",
    "\n",
    "### dataset 2\n",
    "# num_ent = 877\n",
    "# feat_len = 1703\n",
    "# embed_dim = 1800"
   ]
  },
  {
   "cell_type": "code",
   "execution_count": 97,
   "id": "wired-grave",
   "metadata": {},
   "outputs": [],
   "source": [
    "device = torch.device('cuda:1' if torch.cuda.is_available() else 'cpu')"
   ]
  },
  {
   "cell_type": "code",
   "execution_count": 98,
   "id": "normal-costa",
   "metadata": {},
   "outputs": [],
   "source": [
    "class Args:\n",
    "    def __init__(self,\n",
    "                num_ent=2708,\n",
    "                feat_len=1703,\n",
    "                embed_dim=1800,\n",
    "                inp_drop=0.5,\n",
    "                feat_drop=0.5,\n",
    "                hid_drop=0.2,\n",
    "                perm=1,\n",
    "                k_w=40,\n",
    "                k_h=40,\n",
    "                jk_h=50,\n",
    "                num_filt=96,\n",
    "                ker_sz=3):\n",
    "        self.num_ent = num_ent\n",
    "        self.feat_len = feat_len\n",
    "        self.embed_dim = embed_dim\n",
    "        self.inp_drop = inp_drop\n",
    "        self.feat_drop = feat_drop\n",
    "        self.hid_drop = hid_drop\n",
    "        self.perm = perm\n",
    "        self.k_w = k_w\n",
    "        self.k_h = k_h\n",
    "        self.num_filt = num_filt\n",
    "        self.ker_sz = ker_sz"
   ]
  },
  {
   "cell_type": "code",
   "execution_count": 99,
   "id": "featured-there",
   "metadata": {},
   "outputs": [],
   "source": [
    "train_df = pd.read_csv(os.path.join(root, \"hw2_data\", dataset, \"raw\", \"train.csv\"))\n",
    "\n",
    "tmp = pd.DataFrame(data={\n",
    "                    \"from\": train_df[\"to\"], \n",
    "                    \"to\": train_df[\"from\"],\n",
    "                    \"label\": train_df[\"label\"],\n",
    "                    \"id\": train_df[\"id\"]})\n",
    "\n",
    "train_df = pd.concat([train_df, tmp], ignore_index=True)\n",
    "train_df = train_df.drop_duplicates()"
   ]
  },
  {
   "cell_type": "code",
   "execution_count": 100,
   "id": "apparent-alloy",
   "metadata": {},
   "outputs": [],
   "source": [
    "train_df, valid_df = train_test_split(train_df)"
   ]
  },
  {
   "cell_type": "code",
   "execution_count": 101,
   "id": "coral-share",
   "metadata": {},
   "outputs": [],
   "source": [
    "content_df = pd.read_csv(os.path.join(root, \"hw2_data\", dataset, \"raw\", \"content.csv\"), \n",
    "                         delimiter=\"\\t\", \n",
    "                         header=None)\n",
    "content_df = content_df.sort_values(by=[0]).loc[:, 1:]"
   ]
  },
  {
   "cell_type": "code",
   "execution_count": 102,
   "id": "wooden-process",
   "metadata": {},
   "outputs": [],
   "source": [
    "test_df = pd.read_csv(os.path.join(root, \"hw2_data\", dataset, \"raw\", \"test.csv\"))"
   ]
  },
  {
   "cell_type": "code",
   "execution_count": 103,
   "id": "forced-penalty",
   "metadata": {},
   "outputs": [],
   "source": [
    "class Dataset(BaseDataset):\n",
    "    \n",
    "    def __init__(self, dataframe, content, split=\"train\"):\n",
    "        \n",
    "        # Read node features\n",
    "        content = content.to_numpy()\n",
    "        self.features = content\n",
    "        self.dataframe = dataframe\n",
    "        \n",
    "        self.split = split\n",
    "        \n",
    "    def __len__(self):\n",
    "        return len(self.dataframe)\n",
    "        \n",
    "    def __getitem__(self, idx):\n",
    "        \n",
    "        row = self.dataframe.iloc[idx]\n",
    "\n",
    "        follower, followee = row[\"from\"], row[\"to\"]\n",
    "\n",
    "        follower_feat = self.features[follower]\n",
    "        followee_feat = self.features[followee]\n",
    "\n",
    "        if self.split == \"test\":\n",
    "            return follower, followee, follower_feat, followee_feat \n",
    "        \n",
    "        return follower, followee, follower_feat, followee_feat, row[\"label\"]"
   ]
  },
  {
   "cell_type": "code",
   "execution_count": 104,
   "id": "collective-update",
   "metadata": {},
   "outputs": [],
   "source": [
    "trainset = Dataset(train_df, content_df, split=\"train\")\n",
    "validset = Dataset(valid_df, content_df, split=\"valid\")\n",
    "testset = Dataset(test_df, content_df, split=\"test\")"
   ]
  },
  {
   "cell_type": "code",
   "execution_count": 105,
   "id": "painted-bracket",
   "metadata": {},
   "outputs": [],
   "source": [
    "trainloader = DataLoader(trainset, batch_size=32, shuffle=True, num_workers=2)\n",
    "validloader = DataLoader(validset, batch_size=32, shuffle=False, num_workers=2)\n",
    "testloader = DataLoader(testset, batch_size=32, shuffle=False, num_workers=2)"
   ]
  },
  {
   "cell_type": "code",
   "execution_count": 106,
   "id": "relative-usage",
   "metadata": {},
   "outputs": [],
   "source": [
    "args = Args(num_ent=len(content_df), feat_len=len(content_df.iloc[0]))"
   ]
  },
  {
   "cell_type": "code",
   "execution_count": 107,
   "id": "aggregate-impact",
   "metadata": {},
   "outputs": [
    {
     "data": {
      "text/plain": [
       "1433"
      ]
     },
     "execution_count": 107,
     "metadata": {},
     "output_type": "execute_result"
    }
   ],
   "source": [
    "args.feat_len"
   ]
  },
  {
   "cell_type": "code",
   "execution_count": 108,
   "id": "iraqi-civilization",
   "metadata": {},
   "outputs": [],
   "source": [
    "def get_chequer_perm(perm=1, k_w=30, k_h=50):\n",
    "    \"\"\"\n",
    "    Function to generate the chequer permutation required for InteractE model\n",
    "    Parameters\n",
    "    ----------\n",
    "\n",
    "    Returns\n",
    "    -------\n",
    "\n",
    "    \"\"\"\n",
    "    embed_dim = k_w * k_h\n",
    "#     ent_perm  = np.int32([np.random.permutation(embed_dim) for _ in range(perm)])\n",
    "#     print(ent_perm)\n",
    "    ent_perm  = np.int32([np.arange(embed_dim) for _ in range(perm)])\n",
    "#     rel_perm  = np.int32([np.random.permutation(embed_dim) for _ in range(perm)])\n",
    "#     print(rel_perm)\n",
    "    rel_perm  = np.int32([np.arange(embed_dim) for _ in range(perm)])\n",
    "\n",
    "    comb_idx = []\n",
    "    for k in range(perm):\n",
    "        temp = []\n",
    "        ent_idx, rel_idx = 0, 0\n",
    "\n",
    "        for i in range(embed_dim):\n",
    "            if k % 2 == 0:\n",
    "                if i % 2 == 0:\n",
    "                    temp.append(ent_perm[k, ent_idx]); ent_idx += 1;\n",
    "                    temp.append(rel_perm[k, rel_idx]+embed_dim); rel_idx += 1;\n",
    "                else:\n",
    "                    temp.append(rel_perm[k, rel_idx]+embed_dim); rel_idx += 1;\n",
    "                    temp.append(ent_perm[k, ent_idx]); ent_idx += 1;\n",
    "            else:\n",
    "                if i % 2 == 0:\n",
    "                    temp.append(rel_perm[k, rel_idx]+embed_dim); rel_idx += 1;\n",
    "                    temp.append(ent_perm[k, ent_idx]); ent_idx += 1;\n",
    "                else:\n",
    "                    temp.append(ent_perm[k, ent_idx]); ent_idx += 1;\n",
    "                    temp.append(rel_perm[k, rel_idx]+embed_dim); rel_idx += 1;\n",
    "\n",
    "        comb_idx.append(temp)\n",
    "\n",
    "    chequer_perm = torch.LongTensor(np.int32(comb_idx))\n",
    "    return chequer_perm\n"
   ]
  },
  {
   "cell_type": "code",
   "execution_count": 109,
   "id": "noticed-partner",
   "metadata": {},
   "outputs": [
    {
     "data": {
      "text/plain": [
       "tensor([[   0, 1600, 1601,  ..., 3198, 3199, 1599]])"
      ]
     },
     "execution_count": 109,
     "metadata": {},
     "output_type": "execute_result"
    }
   ],
   "source": [
    "chequer = get_chequer_perm(perm=args.perm, k_w=args.k_w, k_h=args.k_h)\n",
    "chequer"
   ]
  },
  {
   "cell_type": "code",
   "execution_count": 110,
   "id": "distinguished-question",
   "metadata": {},
   "outputs": [],
   "source": [
    "class InteractE(torch.nn.Module):\n",
    "    \"\"\"\n",
    "    Proposed method in the paper. Refer Section 6 of the paper for mode details \n",
    "    Parameters\n",
    "    ----------\n",
    "    params:         Hyperparameters of the model\n",
    "    chequer_perm:   Reshaping to be used by the model\n",
    "\n",
    "    Returns\n",
    "    -------\n",
    "    The InteractE model instance\n",
    "\n",
    "    \"\"\"\n",
    "    def __init__(self, params, chequer_perm):\n",
    "        super(InteractE, self).__init__()\n",
    "\n",
    "        self.p = params\n",
    "        self.ent_embed = torch.nn.Embedding(self.p.num_ent, self.p.embed_dim-self.p.feat_len, padding_idx=None); # xavier_normal_(self.ent_embed.weight)\n",
    "        print(self.ent_embed)\n",
    "        self.chequer_perm = chequer_perm\n",
    "\n",
    "\n",
    "        self.resnet = _ResNet(BasicBlock, [2, 2, 2, 2], 1)\n",
    "    \n",
    "    def circular_padding_chw(self, batch, padding):\n",
    "        upper_pad = batch[..., -padding:, :]\n",
    "        lower_pad = batch[..., :padding, :]\n",
    "        temp = torch.cat([upper_pad, batch, lower_pad], dim=2)\n",
    "\n",
    "        left_pad = temp[..., -padding:]\n",
    "        right_pad = temp[..., :padding]\n",
    "        padded = torch.cat([left_pad, temp, right_pad], dim=3)\n",
    "        return padded\n",
    "\n",
    "    def forward(self, follower, followee, follower_id, followee_id):\n",
    "\n",
    "#         print(follower_id)\n",
    "        follower_emb = self.ent_embed(follower_id)\n",
    "        if isinstance(follower, np.ndarray):\n",
    "            follower = torch.from_numpy(follower)\n",
    "        follower_emb = torch.cat((follower, follower_emb), dim=-1)\n",
    "  \n",
    "        \n",
    "        followee_emb = self.ent_embed(followee_id)\n",
    "        if isinstance(followee, np.ndarray):\n",
    "            followee = torch.from_numpy(followee)\n",
    "        followee_emb = torch.cat((followee, followee_emb), dim=-1)\n",
    "        \n",
    "        comb_emb = torch.cat([follower_emb, followee_emb], dim=-1)\n",
    "        chequer_perm = comb_emb[:, self.chequer_perm] # batch, 1, embed_size\n",
    "\n",
    "        stack_inp = chequer_perm.reshape((-1, self.p.perm, 2*self.p.k_w, self.p.k_h)) # batch, 1, 2*k_w, k_h\n",
    "        \n",
    "        #### start\n",
    "        \n",
    "#         stack_inp = self.bn0(stack_inp)\n",
    "        \n",
    "#         stack_inp = self.inp_drop(stack_inp)\n",
    "        x = self.circular_padding_chw(stack_inp, self.p.ker_sz//2)\n",
    "        \n",
    "        pred = self.resnet(x)\n",
    "\n",
    "        return pred\n"
   ]
  },
  {
   "cell_type": "code",
   "execution_count": 111,
   "id": "stuffed-lindsay",
   "metadata": {},
   "outputs": [],
   "source": [
    "def load_checkpoint(filepath, device):\n",
    "    \n",
    "    model = InteractE(args, chequer).to(device)\n",
    "\n",
    "    if os.path.exists(filepath):\n",
    "        print(\"pretrained finded\")\n",
    "        checkpoint = torch.load(filepath)\n",
    "        model.load_state_dict(checkpoint['model_stat'])\n",
    "        optimizer = torch.optim.Adam(model.parameters(), lr=1e-4)\n",
    "        optimizer.load_state_dict(checkpoint['optimizer_stat'])\n",
    "\n",
    "    else:\n",
    "        print(\"use a new optimizer\")\n",
    "        optimizer = torch.optim.Adam(model.parameters(), lr=1e-4)\n",
    "\n",
    "    return model, optimizer"
   ]
  },
  {
   "cell_type": "code",
   "execution_count": 115,
   "id": "powered-evidence",
   "metadata": {
    "scrolled": true
   },
   "outputs": [
    {
     "name": "stdout",
     "output_type": "stream",
     "text": [
      "Embedding(2708, 367)\n",
      "use a new optimizer\n"
     ]
    }
   ],
   "source": [
    "model, optimizer = load_checkpoint(os.path.join(root, \"results\", dataset, \"conv\", \n",
    "                                                \"{}_{}.pth\".format(date_time, dataset)), \n",
    "                                   device=device)"
   ]
  },
  {
   "cell_type": "code",
   "execution_count": 116,
   "id": "periodic-copper",
   "metadata": {},
   "outputs": [],
   "source": [
    "def train(model, optim, loader, device):\n",
    "    \n",
    "    model.train()\n",
    "    model = model.to(device)\n",
    "    \n",
    "    total_loss = 0\n",
    "    for index, data in tqdm(enumerate(loader)):\n",
    "        \n",
    "        optim.zero_grad()\n",
    "        \n",
    "        follower, followee, follower_feat, followee_feat, label = data\n",
    "        \n",
    "        follower = follower.to(device)\n",
    "        followee = followee.to(device)\n",
    "        follower_feat = follower_feat.to(device)\n",
    "        followee_feat = followee_feat.to(device)\n",
    "        label = label.to(device).float()\n",
    "\n",
    "        pred = model(follower_feat, followee_feat, follower, followee) \n",
    "        pred = torch.squeeze(pred)\n",
    "        \n",
    "        loss = torch.nn.BCELoss()(pred, label)\n",
    "\n",
    "        loss.backward()\n",
    "        optim.step()\n",
    "        \n",
    "        total_loss += loss.item()\n",
    "\n",
    "    total_loss = total_loss/(index+1)\n",
    "    return total_loss"
   ]
  },
  {
   "cell_type": "code",
   "execution_count": 117,
   "id": "younger-conclusion",
   "metadata": {},
   "outputs": [],
   "source": [
    "@torch.no_grad()\n",
    "def test(model, loader, device=\"cpu\"):\n",
    "    \n",
    "    from sklearn.metrics import roc_auc_score\n",
    "    \n",
    "    model.eval()\n",
    "    model = model.to(device)\n",
    "    \n",
    "    y_pred, y_true = [], []\n",
    "    for data in tqdm(loader):\n",
    "        follower, followee, follower_feat, followee_feat, label = data\n",
    "        \n",
    "        follower = follower.to(device)\n",
    "        followee = followee.to(device)\n",
    "        follower_feat = follower_feat.to(device)\n",
    "        followee_feat = followee_feat.to(device)\n",
    "        label = label.to(device).float()\n",
    "        \n",
    "        pred = model(follower_feat, followee_feat, follower, followee) \n",
    "        pred = torch.squeeze(pred)\n",
    "        \n",
    "        y_pred.append(pred.view(-1).cpu())\n",
    "        y_true.append(label.view(-1).cpu())\n",
    "     \n",
    "    return roc_auc_score(torch.cat(y_true), torch.cat(y_pred))"
   ]
  },
  {
   "cell_type": "code",
   "execution_count": 118,
   "id": "sunset-disclaimer",
   "metadata": {},
   "outputs": [],
   "source": [
    "@torch.no_grad()\n",
    "def predict(model, loader, device=\"cpu\"):\n",
    "    \n",
    "#     from sklearn.metrics import roc_auc_score\n",
    "    \n",
    "    model.eval()\n",
    "    model = model.to(device)\n",
    "    \n",
    "    y_pred = []\n",
    "    for data in tqdm(loader):\n",
    "        follower, followee, follower_feat, followee_feat = data\n",
    "        \n",
    "        follower = follower.to(device)\n",
    "        followee = followee.to(device)\n",
    "        follower_feat = follower_feat.to(device)\n",
    "        followee_feat = followee_feat.to(device)\n",
    "        \n",
    "        pred = model(follower_feat, followee_feat, follower, followee) \n",
    "        pred = torch.squeeze(pred)\n",
    "        \n",
    "        y_pred.append(pred.view(-1).cpu())\n",
    "     \n",
    "    return torch.cat(y_pred)"
   ]
  },
  {
   "cell_type": "code",
   "execution_count": null,
   "id": "complete-constant",
   "metadata": {},
   "outputs": [],
   "source": []
  },
  {
   "cell_type": "code",
   "execution_count": 120,
   "id": "intelligent-whole",
   "metadata": {},
   "outputs": [
    {
     "name": "stderr",
     "output_type": "stream",
     "text": [
      "408it [00:09, 43.21it/s]\n",
      "100%|██████████| 408/408 [00:02<00:00, 150.28it/s]\n",
      "100%|██████████| 136/136 [00:01<00:00, 127.72it/s]\n"
     ]
    },
    {
     "name": "stdout",
     "output_type": "stream",
     "text": [
      "\n",
      "Save Model\n",
      "Epoch: 1, loss=0.69190, valid_auc=0.58356, train_auc=0.68590\n"
     ]
    },
    {
     "name": "stderr",
     "output_type": "stream",
     "text": [
      "408it [00:09, 43.85it/s]\n",
      "100%|██████████| 408/408 [00:02<00:00, 160.25it/s]\n",
      "100%|██████████| 136/136 [00:01<00:00, 125.13it/s]\n"
     ]
    },
    {
     "name": "stdout",
     "output_type": "stream",
     "text": [
      "\n",
      "Save Model\n",
      "Epoch: 2, loss=0.66286, valid_auc=0.59367, train_auc=0.71047\n"
     ]
    },
    {
     "name": "stderr",
     "output_type": "stream",
     "text": [
      "408it [00:09, 44.28it/s]\n",
      "100%|██████████| 408/408 [00:02<00:00, 159.69it/s]\n",
      "100%|██████████| 136/136 [00:01<00:00, 128.49it/s]\n"
     ]
    },
    {
     "name": "stdout",
     "output_type": "stream",
     "text": [
      "\n",
      "Save Model\n",
      "Epoch: 3, loss=0.63454, valid_auc=0.63033, train_auc=0.77571\n"
     ]
    },
    {
     "name": "stderr",
     "output_type": "stream",
     "text": [
      "408it [00:09, 42.71it/s]\n",
      "100%|██████████| 408/408 [00:02<00:00, 147.73it/s]\n",
      "100%|██████████| 136/136 [00:01<00:00, 130.38it/s]\n"
     ]
    },
    {
     "name": "stdout",
     "output_type": "stream",
     "text": [
      "\n",
      "Save Model\n",
      "Epoch: 4, loss=0.60516, valid_auc=0.65856, train_auc=0.81264\n"
     ]
    },
    {
     "name": "stderr",
     "output_type": "stream",
     "text": [
      "408it [00:09, 44.59it/s]\n",
      "100%|██████████| 408/408 [00:02<00:00, 150.12it/s]\n",
      "100%|██████████| 136/136 [00:01<00:00, 130.25it/s]\n"
     ]
    },
    {
     "name": "stdout",
     "output_type": "stream",
     "text": [
      "\n",
      "Save Model\n",
      "Epoch: 5, loss=0.57218, valid_auc=0.66143, train_auc=0.85172\n"
     ]
    },
    {
     "name": "stderr",
     "output_type": "stream",
     "text": [
      "408it [00:09, 43.82it/s]\n",
      "100%|██████████| 408/408 [00:02<00:00, 150.13it/s]\n",
      "100%|██████████| 136/136 [00:01<00:00, 129.79it/s]\n"
     ]
    },
    {
     "name": "stdout",
     "output_type": "stream",
     "text": [
      "\n",
      "Save Model\n",
      "Epoch: 6, loss=0.51655, valid_auc=0.68334, train_auc=0.89793\n"
     ]
    },
    {
     "name": "stderr",
     "output_type": "stream",
     "text": [
      "408it [00:09, 42.63it/s]\n",
      "100%|██████████| 408/408 [00:02<00:00, 150.11it/s]\n",
      "100%|██████████| 136/136 [00:01<00:00, 130.55it/s]"
     ]
    },
    {
     "name": "stdout",
     "output_type": "stream",
     "text": [
      "Epoch: 7, loss=0.46197, valid_auc=0.67403, train_auc=0.93141\n"
     ]
    },
    {
     "name": "stderr",
     "output_type": "stream",
     "text": [
      "\n",
      "408it [00:09, 43.34it/s]\n",
      "100%|██████████| 408/408 [00:02<00:00, 154.31it/s]\n",
      "100%|██████████| 136/136 [00:01<00:00, 133.32it/s]\n"
     ]
    },
    {
     "name": "stdout",
     "output_type": "stream",
     "text": [
      "\n",
      "Save Model\n",
      "Epoch: 8, loss=0.38589, valid_auc=0.68835, train_auc=0.96377\n"
     ]
    },
    {
     "name": "stderr",
     "output_type": "stream",
     "text": [
      "408it [00:09, 43.50it/s]\n",
      "100%|██████████| 408/408 [00:02<00:00, 149.26it/s]\n",
      "100%|██████████| 136/136 [00:01<00:00, 128.47it/s]\n"
     ]
    },
    {
     "name": "stdout",
     "output_type": "stream",
     "text": [
      "\n",
      "Save Model\n",
      "Epoch: 9, loss=0.30364, valid_auc=0.69197, train_auc=0.97756\n"
     ]
    },
    {
     "name": "stderr",
     "output_type": "stream",
     "text": [
      "408it [00:09, 43.58it/s]\n",
      "100%|██████████| 408/408 [00:02<00:00, 150.49it/s]\n",
      "100%|██████████| 136/136 [00:01<00:00, 135.08it/s]\n"
     ]
    },
    {
     "name": "stdout",
     "output_type": "stream",
     "text": [
      "\n",
      "Save Model\n",
      "Epoch: 10, loss=0.23161, valid_auc=0.69494, train_auc=0.98936\n"
     ]
    },
    {
     "name": "stderr",
     "output_type": "stream",
     "text": [
      "408it [00:09, 43.79it/s]\n",
      "100%|██████████| 408/408 [00:02<00:00, 146.19it/s]\n",
      "100%|██████████| 136/136 [00:00<00:00, 136.80it/s]\n"
     ]
    },
    {
     "name": "stdout",
     "output_type": "stream",
     "text": [
      "\n",
      "Save Model\n",
      "Epoch: 11, loss=0.17526, valid_auc=0.70956, train_auc=0.99636\n"
     ]
    },
    {
     "name": "stderr",
     "output_type": "stream",
     "text": [
      "408it [00:09, 43.74it/s]\n",
      "100%|██████████| 408/408 [00:02<00:00, 152.19it/s]\n",
      "100%|██████████| 136/136 [00:01<00:00, 134.91it/s]"
     ]
    },
    {
     "name": "stdout",
     "output_type": "stream",
     "text": [
      "Epoch: 12, loss=0.14025, valid_auc=0.69904, train_auc=0.99467\n"
     ]
    },
    {
     "name": "stderr",
     "output_type": "stream",
     "text": [
      "\n",
      "408it [00:09, 42.77it/s]\n",
      "100%|██████████| 408/408 [00:02<00:00, 147.55it/s]\n",
      "100%|██████████| 136/136 [00:01<00:00, 131.75it/s]\n"
     ]
    },
    {
     "name": "stdout",
     "output_type": "stream",
     "text": [
      "Epoch: 13, loss=0.13313, valid_auc=0.70606, train_auc=0.99792\n"
     ]
    },
    {
     "name": "stderr",
     "output_type": "stream",
     "text": [
      "408it [00:09, 42.70it/s]\n",
      "100%|██████████| 408/408 [00:02<00:00, 153.58it/s]\n",
      "100%|██████████| 136/136 [00:01<00:00, 129.17it/s]\n"
     ]
    },
    {
     "name": "stdout",
     "output_type": "stream",
     "text": [
      "\n",
      "Save Model\n",
      "Epoch: 14, loss=0.09321, valid_auc=0.70980, train_auc=0.99763\n"
     ]
    },
    {
     "name": "stderr",
     "output_type": "stream",
     "text": [
      "408it [00:09, 44.04it/s]\n",
      "100%|██████████| 408/408 [00:02<00:00, 153.96it/s]\n",
      "100%|██████████| 136/136 [00:01<00:00, 133.71it/s]\n"
     ]
    },
    {
     "name": "stdout",
     "output_type": "stream",
     "text": [
      "\n",
      "Save Model\n",
      "Epoch: 15, loss=0.08066, valid_auc=0.71067, train_auc=0.99831\n"
     ]
    },
    {
     "name": "stderr",
     "output_type": "stream",
     "text": [
      "408it [00:09, 43.87it/s]\n",
      "100%|██████████| 408/408 [00:02<00:00, 156.71it/s]\n",
      "100%|██████████| 136/136 [00:01<00:00, 132.45it/s]"
     ]
    },
    {
     "name": "stdout",
     "output_type": "stream",
     "text": [
      "Epoch: 16, loss=0.07525, valid_auc=0.70048, train_auc=0.99882\n"
     ]
    },
    {
     "name": "stderr",
     "output_type": "stream",
     "text": [
      "\n",
      "408it [00:09, 42.83it/s]\n",
      "100%|██████████| 408/408 [00:02<00:00, 154.36it/s]\n",
      "100%|██████████| 136/136 [00:01<00:00, 135.54it/s]"
     ]
    },
    {
     "name": "stdout",
     "output_type": "stream",
     "text": [
      "Epoch: 17, loss=0.08300, valid_auc=0.70238, train_auc=0.99873\n"
     ]
    },
    {
     "name": "stderr",
     "output_type": "stream",
     "text": [
      "\n",
      "408it [00:09, 42.09it/s]\n",
      "100%|██████████| 408/408 [00:02<00:00, 152.38it/s]\n",
      "100%|██████████| 136/136 [00:01<00:00, 126.18it/s]"
     ]
    },
    {
     "name": "stdout",
     "output_type": "stream",
     "text": [
      "Epoch: 18, loss=0.06670, valid_auc=0.70858, train_auc=0.99912\n"
     ]
    },
    {
     "name": "stderr",
     "output_type": "stream",
     "text": [
      "\n",
      "408it [00:09, 41.80it/s]\n",
      "100%|██████████| 408/408 [00:02<00:00, 148.54it/s]\n",
      "100%|██████████| 136/136 [00:01<00:00, 129.10it/s]\n"
     ]
    },
    {
     "name": "stdout",
     "output_type": "stream",
     "text": [
      "\n",
      "Save Model\n",
      "Epoch: 19, loss=0.05993, valid_auc=0.71178, train_auc=0.99894\n"
     ]
    },
    {
     "name": "stderr",
     "output_type": "stream",
     "text": [
      "408it [00:09, 42.17it/s]\n",
      "100%|██████████| 408/408 [00:02<00:00, 152.16it/s]\n",
      "100%|██████████| 136/136 [00:01<00:00, 123.80it/s]"
     ]
    },
    {
     "name": "stdout",
     "output_type": "stream",
     "text": [
      "Epoch: 20, loss=0.06238, valid_auc=0.71103, train_auc=0.99933\n"
     ]
    },
    {
     "name": "stderr",
     "output_type": "stream",
     "text": [
      "\n",
      "408it [00:09, 43.84it/s]\n",
      "100%|██████████| 408/408 [00:02<00:00, 153.15it/s]\n",
      "100%|██████████| 136/136 [00:01<00:00, 131.53it/s]"
     ]
    },
    {
     "name": "stdout",
     "output_type": "stream",
     "text": [
      "Epoch: 21, loss=0.05106, valid_auc=0.70624, train_auc=0.99939\n"
     ]
    },
    {
     "name": "stderr",
     "output_type": "stream",
     "text": [
      "\n",
      "408it [00:09, 42.70it/s]\n",
      "100%|██████████| 408/408 [00:02<00:00, 155.38it/s]\n",
      "100%|██████████| 136/136 [00:01<00:00, 134.07it/s]\n"
     ]
    },
    {
     "name": "stdout",
     "output_type": "stream",
     "text": [
      "\n",
      "Save Model\n",
      "Epoch: 22, loss=0.05813, valid_auc=0.71195, train_auc=0.99853\n"
     ]
    },
    {
     "name": "stderr",
     "output_type": "stream",
     "text": [
      "408it [00:09, 41.75it/s]\n",
      "100%|██████████| 408/408 [00:02<00:00, 153.57it/s]\n",
      "100%|██████████| 136/136 [00:01<00:00, 133.85it/s]"
     ]
    },
    {
     "name": "stdout",
     "output_type": "stream",
     "text": [
      "Epoch: 23, loss=0.05716, valid_auc=0.71185, train_auc=0.99920\n"
     ]
    },
    {
     "name": "stderr",
     "output_type": "stream",
     "text": [
      "\n",
      "408it [00:09, 42.48it/s]\n",
      "100%|██████████| 408/408 [00:02<00:00, 150.39it/s]\n",
      "100%|██████████| 136/136 [00:01<00:00, 130.76it/s]"
     ]
    },
    {
     "name": "stdout",
     "output_type": "stream",
     "text": [
      "Epoch: 24, loss=0.04983, valid_auc=0.71135, train_auc=0.99849\n"
     ]
    },
    {
     "name": "stderr",
     "output_type": "stream",
     "text": [
      "\n",
      "408it [00:09, 42.61it/s]\n",
      "100%|██████████| 408/408 [00:02<00:00, 149.19it/s]\n",
      "100%|██████████| 136/136 [00:01<00:00, 132.11it/s]\n"
     ]
    },
    {
     "name": "stdout",
     "output_type": "stream",
     "text": [
      "\n",
      "Save Model\n",
      "Epoch: 25, loss=0.04251, valid_auc=0.71592, train_auc=0.99928\n"
     ]
    },
    {
     "name": "stderr",
     "output_type": "stream",
     "text": [
      "408it [00:09, 42.85it/s]\n",
      "100%|██████████| 408/408 [00:02<00:00, 152.84it/s]\n",
      "100%|██████████| 136/136 [00:01<00:00, 132.08it/s]\n"
     ]
    },
    {
     "name": "stdout",
     "output_type": "stream",
     "text": [
      "\n",
      "Save Model\n",
      "Epoch: 26, loss=0.06231, valid_auc=0.71678, train_auc=0.99955\n"
     ]
    },
    {
     "name": "stderr",
     "output_type": "stream",
     "text": [
      "408it [00:09, 42.46it/s]\n",
      "100%|██████████| 408/408 [00:02<00:00, 154.46it/s]\n",
      "100%|██████████| 136/136 [00:01<00:00, 128.15it/s]\n"
     ]
    },
    {
     "name": "stdout",
     "output_type": "stream",
     "text": [
      "\n",
      "Save Model\n",
      "Epoch: 27, loss=0.03965, valid_auc=0.72365, train_auc=0.99925\n"
     ]
    },
    {
     "name": "stderr",
     "output_type": "stream",
     "text": [
      "408it [00:09, 43.36it/s]\n",
      "100%|██████████| 408/408 [00:02<00:00, 151.55it/s]\n",
      "100%|██████████| 136/136 [00:01<00:00, 125.83it/s]"
     ]
    },
    {
     "name": "stdout",
     "output_type": "stream",
     "text": [
      "Epoch: 28, loss=0.04374, valid_auc=0.71369, train_auc=0.99958\n"
     ]
    },
    {
     "name": "stderr",
     "output_type": "stream",
     "text": [
      "\n",
      "408it [00:09, 43.58it/s]\n",
      "100%|██████████| 408/408 [00:02<00:00, 154.20it/s]\n",
      "100%|██████████| 136/136 [00:01<00:00, 130.14it/s]\n"
     ]
    },
    {
     "name": "stdout",
     "output_type": "stream",
     "text": [
      "Epoch: 29, loss=0.03720, valid_auc=0.71282, train_auc=0.99979\n"
     ]
    },
    {
     "name": "stderr",
     "output_type": "stream",
     "text": [
      "408it [00:09, 42.63it/s]\n",
      "100%|██████████| 408/408 [00:02<00:00, 152.10it/s]\n",
      "100%|██████████| 136/136 [00:01<00:00, 124.05it/s]"
     ]
    },
    {
     "name": "stdout",
     "output_type": "stream",
     "text": [
      "Epoch: 30, loss=0.04048, valid_auc=0.70423, train_auc=0.99940\n"
     ]
    },
    {
     "name": "stderr",
     "output_type": "stream",
     "text": [
      "\n",
      "408it [00:09, 42.36it/s]\n",
      "100%|██████████| 408/408 [00:02<00:00, 154.59it/s]\n",
      "100%|██████████| 136/136 [00:01<00:00, 131.37it/s]"
     ]
    },
    {
     "name": "stdout",
     "output_type": "stream",
     "text": [
      "Epoch: 31, loss=0.03714, valid_auc=0.71419, train_auc=0.99966\n"
     ]
    },
    {
     "name": "stderr",
     "output_type": "stream",
     "text": [
      "\n",
      "408it [00:09, 41.77it/s]\n",
      "100%|██████████| 408/408 [00:02<00:00, 148.49it/s]\n",
      "100%|██████████| 136/136 [00:01<00:00, 134.70it/s]"
     ]
    },
    {
     "name": "stdout",
     "output_type": "stream",
     "text": [
      "Epoch: 32, loss=0.04388, valid_auc=0.70712, train_auc=0.99839\n"
     ]
    },
    {
     "name": "stderr",
     "output_type": "stream",
     "text": [
      "\n",
      "408it [00:09, 42.26it/s]\n",
      "100%|██████████| 408/408 [00:02<00:00, 153.71it/s]\n",
      "100%|██████████| 136/136 [00:01<00:00, 133.28it/s]"
     ]
    },
    {
     "name": "stdout",
     "output_type": "stream",
     "text": [
      "Epoch: 33, loss=0.03791, valid_auc=0.71228, train_auc=0.99978\n"
     ]
    },
    {
     "name": "stderr",
     "output_type": "stream",
     "text": [
      "\n",
      "408it [00:09, 41.83it/s]\n",
      "100%|██████████| 408/408 [00:02<00:00, 154.16it/s]\n",
      "100%|██████████| 136/136 [00:00<00:00, 136.46it/s]"
     ]
    },
    {
     "name": "stdout",
     "output_type": "stream",
     "text": [
      "Epoch: 34, loss=0.03747, valid_auc=0.71652, train_auc=0.99967\n"
     ]
    },
    {
     "name": "stderr",
     "output_type": "stream",
     "text": [
      "\n",
      "408it [00:09, 42.78it/s]\n",
      "100%|██████████| 408/408 [00:02<00:00, 150.97it/s]\n",
      "100%|██████████| 136/136 [00:01<00:00, 131.47it/s]"
     ]
    },
    {
     "name": "stdout",
     "output_type": "stream",
     "text": [
      "Epoch: 35, loss=0.03440, valid_auc=0.71267, train_auc=0.99963\n"
     ]
    },
    {
     "name": "stderr",
     "output_type": "stream",
     "text": [
      "\n",
      "408it [00:09, 42.52it/s]\n",
      "100%|██████████| 408/408 [00:02<00:00, 153.87it/s]\n",
      "100%|██████████| 136/136 [00:01<00:00, 134.44it/s]"
     ]
    },
    {
     "name": "stdout",
     "output_type": "stream",
     "text": [
      "Epoch: 36, loss=0.03196, valid_auc=0.71711, train_auc=0.99920\n"
     ]
    },
    {
     "name": "stderr",
     "output_type": "stream",
     "text": [
      "\n",
      "408it [00:09, 42.13it/s]\n",
      "100%|██████████| 408/408 [00:02<00:00, 157.27it/s]\n",
      "100%|██████████| 136/136 [00:01<00:00, 133.72it/s]"
     ]
    },
    {
     "name": "stdout",
     "output_type": "stream",
     "text": [
      "Epoch: 37, loss=0.03437, valid_auc=0.70394, train_auc=0.99970\n"
     ]
    },
    {
     "name": "stderr",
     "output_type": "stream",
     "text": [
      "\n",
      "408it [00:09, 44.73it/s]\n",
      "100%|██████████| 408/408 [00:02<00:00, 153.42it/s]\n",
      "100%|██████████| 136/136 [00:01<00:00, 130.87it/s]"
     ]
    },
    {
     "name": "stdout",
     "output_type": "stream",
     "text": [
      "Epoch: 38, loss=0.03288, valid_auc=0.71782, train_auc=0.99984\n"
     ]
    },
    {
     "name": "stderr",
     "output_type": "stream",
     "text": [
      "\n",
      "408it [00:09, 43.85it/s]\n",
      "100%|██████████| 408/408 [00:02<00:00, 150.61it/s]\n",
      "100%|██████████| 136/136 [00:01<00:00, 123.41it/s]"
     ]
    },
    {
     "name": "stdout",
     "output_type": "stream",
     "text": [
      "Epoch: 39, loss=0.03378, valid_auc=0.71784, train_auc=0.99959\n"
     ]
    },
    {
     "name": "stderr",
     "output_type": "stream",
     "text": [
      "\n",
      "408it [00:09, 43.71it/s]\n",
      "100%|██████████| 408/408 [00:02<00:00, 150.04it/s]\n",
      "100%|██████████| 136/136 [00:00<00:00, 138.77it/s]"
     ]
    },
    {
     "name": "stdout",
     "output_type": "stream",
     "text": [
      "Epoch: 40, loss=0.03229, valid_auc=0.71912, train_auc=0.99978\n"
     ]
    },
    {
     "name": "stderr",
     "output_type": "stream",
     "text": [
      "\n",
      "408it [00:09, 42.04it/s]\n",
      "100%|██████████| 408/408 [00:02<00:00, 154.04it/s]\n",
      "100%|██████████| 136/136 [00:01<00:00, 125.64it/s]"
     ]
    },
    {
     "name": "stdout",
     "output_type": "stream",
     "text": [
      "Epoch: 41, loss=0.03365, valid_auc=0.71570, train_auc=0.99978\n"
     ]
    },
    {
     "name": "stderr",
     "output_type": "stream",
     "text": [
      "\n",
      "408it [00:09, 42.47it/s]\n",
      "100%|██████████| 408/408 [00:02<00:00, 156.37it/s]\n",
      "100%|██████████| 136/136 [00:01<00:00, 130.18it/s]"
     ]
    },
    {
     "name": "stdout",
     "output_type": "stream",
     "text": [
      "Epoch: 42, loss=0.02603, valid_auc=0.72186, train_auc=0.99941\n"
     ]
    },
    {
     "name": "stderr",
     "output_type": "stream",
     "text": [
      "\n",
      "408it [00:09, 42.67it/s]\n",
      "100%|██████████| 408/408 [00:02<00:00, 154.41it/s]\n",
      "100%|██████████| 136/136 [00:01<00:00, 129.23it/s]\n"
     ]
    },
    {
     "name": "stdout",
     "output_type": "stream",
     "text": [
      "\n",
      "Save Model\n",
      "Epoch: 43, loss=0.02422, valid_auc=0.73085, train_auc=0.99952\n"
     ]
    },
    {
     "name": "stderr",
     "output_type": "stream",
     "text": [
      "408it [00:09, 42.49it/s]\n",
      "100%|██████████| 408/408 [00:02<00:00, 151.63it/s]\n",
      "100%|██████████| 136/136 [00:01<00:00, 133.64it/s]"
     ]
    },
    {
     "name": "stdout",
     "output_type": "stream",
     "text": [
      "Epoch: 44, loss=0.03567, valid_auc=0.71912, train_auc=0.99939\n"
     ]
    },
    {
     "name": "stderr",
     "output_type": "stream",
     "text": [
      "\n",
      "408it [00:09, 42.65it/s]\n",
      "100%|██████████| 408/408 [00:02<00:00, 152.61it/s]\n",
      "100%|██████████| 136/136 [00:01<00:00, 135.30it/s]"
     ]
    },
    {
     "name": "stdout",
     "output_type": "stream",
     "text": [
      "Epoch: 45, loss=0.02877, valid_auc=0.71640, train_auc=0.99920\n"
     ]
    },
    {
     "name": "stderr",
     "output_type": "stream",
     "text": [
      "\n",
      "408it [00:09, 43.82it/s]\n",
      "100%|██████████| 408/408 [00:02<00:00, 154.33it/s]\n",
      "100%|██████████| 136/136 [00:01<00:00, 129.32it/s]\n"
     ]
    },
    {
     "name": "stdout",
     "output_type": "stream",
     "text": [
      "Epoch: 46, loss=0.03364, valid_auc=0.72273, train_auc=0.99974\n"
     ]
    },
    {
     "name": "stderr",
     "output_type": "stream",
     "text": [
      "408it [00:09, 41.92it/s]\n",
      "100%|██████████| 408/408 [00:02<00:00, 154.59it/s]\n",
      "100%|██████████| 136/136 [00:01<00:00, 125.93it/s]"
     ]
    },
    {
     "name": "stdout",
     "output_type": "stream",
     "text": [
      "Epoch: 47, loss=0.02468, valid_auc=0.72316, train_auc=0.99943\n"
     ]
    },
    {
     "name": "stderr",
     "output_type": "stream",
     "text": [
      "\n",
      "408it [00:09, 43.40it/s]\n",
      "100%|██████████| 408/408 [00:02<00:00, 154.17it/s]\n",
      "100%|██████████| 136/136 [00:00<00:00, 136.46it/s]"
     ]
    },
    {
     "name": "stdout",
     "output_type": "stream",
     "text": [
      "Epoch: 48, loss=0.02601, valid_auc=0.72733, train_auc=0.99966\n"
     ]
    },
    {
     "name": "stderr",
     "output_type": "stream",
     "text": [
      "\n",
      "408it [00:09, 42.53it/s]\n",
      "100%|██████████| 408/408 [00:02<00:00, 155.06it/s]\n",
      "100%|██████████| 136/136 [00:01<00:00, 127.65it/s]"
     ]
    },
    {
     "name": "stdout",
     "output_type": "stream",
     "text": [
      "Epoch: 49, loss=0.03117, valid_auc=0.71798, train_auc=0.99982\n"
     ]
    },
    {
     "name": "stderr",
     "output_type": "stream",
     "text": [
      "\n",
      "408it [00:09, 42.76it/s]\n",
      "100%|██████████| 408/408 [00:02<00:00, 153.41it/s]\n",
      "100%|██████████| 136/136 [00:01<00:00, 128.58it/s]"
     ]
    },
    {
     "name": "stdout",
     "output_type": "stream",
     "text": [
      "Epoch: 50, loss=0.01990, valid_auc=0.71852, train_auc=0.99965\n"
     ]
    },
    {
     "name": "stderr",
     "output_type": "stream",
     "text": [
      "\n",
      "408it [00:09, 43.18it/s]\n",
      "100%|██████████| 408/408 [00:02<00:00, 158.72it/s]\n",
      "100%|██████████| 136/136 [00:01<00:00, 125.55it/s]"
     ]
    },
    {
     "name": "stdout",
     "output_type": "stream",
     "text": [
      "Epoch: 51, loss=0.03026, valid_auc=0.71791, train_auc=0.99988\n"
     ]
    },
    {
     "name": "stderr",
     "output_type": "stream",
     "text": [
      "\n",
      "408it [00:09, 44.37it/s]\n",
      "100%|██████████| 408/408 [00:02<00:00, 152.78it/s]\n",
      "100%|██████████| 136/136 [00:00<00:00, 136.57it/s]"
     ]
    },
    {
     "name": "stdout",
     "output_type": "stream",
     "text": [
      "Epoch: 52, loss=0.02321, valid_auc=0.72325, train_auc=0.99996\n"
     ]
    },
    {
     "name": "stderr",
     "output_type": "stream",
     "text": [
      "\n",
      "408it [00:09, 42.83it/s]\n",
      "100%|██████████| 408/408 [00:02<00:00, 151.17it/s]\n",
      "100%|██████████| 136/136 [00:01<00:00, 131.71it/s]"
     ]
    },
    {
     "name": "stdout",
     "output_type": "stream",
     "text": [
      "Epoch: 53, loss=0.02560, valid_auc=0.72398, train_auc=0.99980\n"
     ]
    },
    {
     "name": "stderr",
     "output_type": "stream",
     "text": [
      "\n",
      "408it [00:09, 44.06it/s]\n",
      "100%|██████████| 408/408 [00:02<00:00, 154.78it/s]\n",
      "100%|██████████| 136/136 [00:01<00:00, 128.67it/s]\n"
     ]
    },
    {
     "name": "stdout",
     "output_type": "stream",
     "text": [
      "Epoch: 54, loss=0.03155, valid_auc=0.72492, train_auc=0.99892\n"
     ]
    },
    {
     "name": "stderr",
     "output_type": "stream",
     "text": [
      "408it [00:09, 42.44it/s]\n",
      "100%|██████████| 408/408 [00:02<00:00, 154.68it/s]\n",
      "100%|██████████| 136/136 [00:01<00:00, 134.96it/s]\n"
     ]
    },
    {
     "name": "stdout",
     "output_type": "stream",
     "text": [
      "\n",
      "Save Model\n",
      "Epoch: 55, loss=0.02665, valid_auc=0.73146, train_auc=0.99987\n"
     ]
    },
    {
     "name": "stderr",
     "output_type": "stream",
     "text": [
      "408it [00:09, 42.44it/s]\n",
      "100%|██████████| 408/408 [00:02<00:00, 154.37it/s]\n",
      "100%|██████████| 136/136 [00:00<00:00, 137.44it/s]"
     ]
    },
    {
     "name": "stdout",
     "output_type": "stream",
     "text": [
      "Epoch: 56, loss=0.02518, valid_auc=0.71625, train_auc=0.99963\n"
     ]
    },
    {
     "name": "stderr",
     "output_type": "stream",
     "text": [
      "\n",
      "408it [00:09, 42.96it/s]\n",
      "100%|██████████| 408/408 [00:02<00:00, 145.45it/s]\n",
      "100%|██████████| 136/136 [00:00<00:00, 136.66it/s]"
     ]
    },
    {
     "name": "stdout",
     "output_type": "stream",
     "text": [
      "Epoch: 57, loss=0.02499, valid_auc=0.71978, train_auc=0.99981\n"
     ]
    },
    {
     "name": "stderr",
     "output_type": "stream",
     "text": [
      "\n",
      "408it [00:09, 43.39it/s]\n",
      "100%|██████████| 408/408 [00:02<00:00, 149.25it/s]\n",
      "100%|██████████| 136/136 [00:01<00:00, 132.42it/s]"
     ]
    },
    {
     "name": "stdout",
     "output_type": "stream",
     "text": [
      "Epoch: 58, loss=0.02179, valid_auc=0.72370, train_auc=0.99986\n"
     ]
    },
    {
     "name": "stderr",
     "output_type": "stream",
     "text": [
      "\n",
      "408it [00:09, 42.92it/s]\n",
      "100%|██████████| 408/408 [00:02<00:00, 156.18it/s]\n",
      "100%|██████████| 136/136 [00:01<00:00, 130.20it/s]\n"
     ]
    },
    {
     "name": "stdout",
     "output_type": "stream",
     "text": [
      "Epoch: 59, loss=0.02542, valid_auc=0.72381, train_auc=0.99966\n"
     ]
    },
    {
     "name": "stderr",
     "output_type": "stream",
     "text": [
      "408it [00:09, 43.22it/s]\n",
      "100%|██████████| 408/408 [00:02<00:00, 152.63it/s]\n",
      "100%|██████████| 136/136 [00:01<00:00, 122.82it/s]"
     ]
    },
    {
     "name": "stdout",
     "output_type": "stream",
     "text": [
      "Epoch: 60, loss=0.02338, valid_auc=0.72828, train_auc=0.99988\n"
     ]
    },
    {
     "name": "stderr",
     "output_type": "stream",
     "text": [
      "\n",
      "408it [00:09, 43.57it/s]\n",
      "100%|██████████| 408/408 [00:02<00:00, 157.65it/s]\n",
      "100%|██████████| 136/136 [00:00<00:00, 136.34it/s]"
     ]
    },
    {
     "name": "stdout",
     "output_type": "stream",
     "text": [
      "Epoch: 61, loss=0.01765, valid_auc=0.72372, train_auc=0.99980\n"
     ]
    },
    {
     "name": "stderr",
     "output_type": "stream",
     "text": [
      "\n",
      "408it [00:09, 42.70it/s]\n",
      "100%|██████████| 408/408 [00:02<00:00, 157.08it/s]\n",
      "100%|██████████| 136/136 [00:01<00:00, 127.83it/s]"
     ]
    },
    {
     "name": "stdout",
     "output_type": "stream",
     "text": [
      "Epoch: 62, loss=0.02551, valid_auc=0.71526, train_auc=0.99991\n"
     ]
    },
    {
     "name": "stderr",
     "output_type": "stream",
     "text": [
      "\n",
      "408it [00:09, 41.73it/s]\n",
      "100%|██████████| 408/408 [00:02<00:00, 150.22it/s]\n",
      "100%|██████████| 136/136 [00:00<00:00, 140.01it/s]"
     ]
    },
    {
     "name": "stdout",
     "output_type": "stream",
     "text": [
      "Epoch: 63, loss=0.01904, valid_auc=0.71197, train_auc=0.99949\n"
     ]
    },
    {
     "name": "stderr",
     "output_type": "stream",
     "text": [
      "\n",
      "408it [00:09, 43.34it/s]\n",
      "100%|██████████| 408/408 [00:02<00:00, 151.47it/s]\n",
      "100%|██████████| 136/136 [00:01<00:00, 132.20it/s]"
     ]
    },
    {
     "name": "stdout",
     "output_type": "stream",
     "text": [
      "Epoch: 64, loss=0.02324, valid_auc=0.72744, train_auc=0.99991\n"
     ]
    },
    {
     "name": "stderr",
     "output_type": "stream",
     "text": [
      "\n",
      "408it [00:09, 41.82it/s]\n",
      "100%|██████████| 408/408 [00:02<00:00, 146.32it/s]\n",
      "100%|██████████| 136/136 [00:01<00:00, 121.53it/s]"
     ]
    },
    {
     "name": "stdout",
     "output_type": "stream",
     "text": [
      "Epoch: 65, loss=0.01438, valid_auc=0.72219, train_auc=0.99983\n"
     ]
    },
    {
     "name": "stderr",
     "output_type": "stream",
     "text": [
      "\n",
      "408it [00:09, 41.81it/s]\n",
      "100%|██████████| 408/408 [00:02<00:00, 148.56it/s]\n",
      "100%|██████████| 136/136 [00:00<00:00, 138.31it/s]"
     ]
    },
    {
     "name": "stdout",
     "output_type": "stream",
     "text": [
      "Epoch: 66, loss=0.02226, valid_auc=0.72211, train_auc=0.99982\n"
     ]
    },
    {
     "name": "stderr",
     "output_type": "stream",
     "text": [
      "\n",
      "408it [00:09, 42.97it/s]\n",
      "100%|██████████| 408/408 [00:02<00:00, 154.43it/s]\n",
      "100%|██████████| 136/136 [00:01<00:00, 131.51it/s]"
     ]
    },
    {
     "name": "stdout",
     "output_type": "stream",
     "text": [
      "Epoch: 67, loss=0.01901, valid_auc=0.71853, train_auc=0.99980\n"
     ]
    },
    {
     "name": "stderr",
     "output_type": "stream",
     "text": [
      "\n",
      "408it [00:09, 42.72it/s]\n",
      "100%|██████████| 408/408 [00:02<00:00, 158.08it/s]\n",
      "100%|██████████| 136/136 [00:00<00:00, 136.09it/s]"
     ]
    },
    {
     "name": "stdout",
     "output_type": "stream",
     "text": [
      "Epoch: 68, loss=0.02215, valid_auc=0.72627, train_auc=0.99997\n"
     ]
    },
    {
     "name": "stderr",
     "output_type": "stream",
     "text": [
      "\n",
      "408it [00:09, 43.22it/s]\n",
      "100%|██████████| 408/408 [00:02<00:00, 156.53it/s]\n",
      "100%|██████████| 136/136 [00:00<00:00, 136.44it/s]"
     ]
    },
    {
     "name": "stdout",
     "output_type": "stream",
     "text": [
      "Epoch: 69, loss=0.02432, valid_auc=0.71845, train_auc=0.99980\n"
     ]
    },
    {
     "name": "stderr",
     "output_type": "stream",
     "text": [
      "\n",
      "408it [00:09, 41.81it/s]\n",
      "100%|██████████| 408/408 [00:02<00:00, 150.87it/s]\n",
      "100%|██████████| 136/136 [00:01<00:00, 131.89it/s]"
     ]
    },
    {
     "name": "stdout",
     "output_type": "stream",
     "text": [
      "Epoch: 70, loss=0.01929, valid_auc=0.71567, train_auc=0.99954\n"
     ]
    },
    {
     "name": "stderr",
     "output_type": "stream",
     "text": [
      "\n",
      "408it [00:09, 43.40it/s]\n",
      "100%|██████████| 408/408 [00:02<00:00, 151.36it/s]\n",
      "100%|██████████| 136/136 [00:01<00:00, 129.76it/s]"
     ]
    },
    {
     "name": "stdout",
     "output_type": "stream",
     "text": [
      "Epoch: 71, loss=0.02561, valid_auc=0.72355, train_auc=0.99983\n"
     ]
    },
    {
     "name": "stderr",
     "output_type": "stream",
     "text": [
      "\n",
      "408it [00:09, 42.52it/s]\n",
      "100%|██████████| 408/408 [00:02<00:00, 152.87it/s]\n",
      "100%|██████████| 136/136 [00:00<00:00, 147.31it/s]"
     ]
    },
    {
     "name": "stdout",
     "output_type": "stream",
     "text": [
      "Epoch: 72, loss=0.01495, valid_auc=0.72919, train_auc=0.99994\n"
     ]
    },
    {
     "name": "stderr",
     "output_type": "stream",
     "text": [
      "\n",
      "408it [00:09, 41.62it/s]\n",
      "100%|██████████| 408/408 [00:02<00:00, 149.86it/s]\n",
      "100%|██████████| 136/136 [00:00<00:00, 136.52it/s]"
     ]
    },
    {
     "name": "stdout",
     "output_type": "stream",
     "text": [
      "Epoch: 73, loss=0.02066, valid_auc=0.72992, train_auc=0.99957\n"
     ]
    },
    {
     "name": "stderr",
     "output_type": "stream",
     "text": [
      "\n",
      "408it [00:09, 43.07it/s]\n",
      "100%|██████████| 408/408 [00:02<00:00, 150.94it/s]\n",
      "100%|██████████| 136/136 [00:01<00:00, 127.65it/s]"
     ]
    },
    {
     "name": "stdout",
     "output_type": "stream",
     "text": [
      "Epoch: 74, loss=0.02486, valid_auc=0.71914, train_auc=0.99974\n"
     ]
    },
    {
     "name": "stderr",
     "output_type": "stream",
     "text": [
      "\n",
      "408it [00:09, 42.30it/s]\n",
      "100%|██████████| 408/408 [00:02<00:00, 150.43it/s]\n",
      "100%|██████████| 136/136 [00:01<00:00, 133.76it/s]"
     ]
    },
    {
     "name": "stdout",
     "output_type": "stream",
     "text": [
      "Epoch: 75, loss=0.01595, valid_auc=0.72104, train_auc=0.99983\n"
     ]
    },
    {
     "name": "stderr",
     "output_type": "stream",
     "text": [
      "\n",
      "408it [00:09, 43.17it/s]\n",
      "100%|██████████| 408/408 [00:02<00:00, 151.64it/s]\n",
      "100%|██████████| 136/136 [00:01<00:00, 130.46it/s]"
     ]
    },
    {
     "name": "stdout",
     "output_type": "stream",
     "text": [
      "Epoch: 76, loss=0.01828, valid_auc=0.72078, train_auc=0.99979\n"
     ]
    },
    {
     "name": "stderr",
     "output_type": "stream",
     "text": [
      "\n",
      "408it [00:09, 42.53it/s]\n",
      "100%|██████████| 408/408 [00:02<00:00, 156.19it/s]\n",
      "100%|██████████| 136/136 [00:01<00:00, 131.17it/s]"
     ]
    },
    {
     "name": "stdout",
     "output_type": "stream",
     "text": [
      "Epoch: 77, loss=0.02072, valid_auc=0.72558, train_auc=0.99975\n"
     ]
    },
    {
     "name": "stderr",
     "output_type": "stream",
     "text": [
      "\n",
      "408it [00:09, 42.34it/s]\n",
      "100%|██████████| 408/408 [00:02<00:00, 151.17it/s]\n",
      "100%|██████████| 136/136 [00:01<00:00, 133.70it/s]"
     ]
    },
    {
     "name": "stdout",
     "output_type": "stream",
     "text": [
      "Epoch: 78, loss=0.01807, valid_auc=0.72631, train_auc=0.99972\n"
     ]
    },
    {
     "name": "stderr",
     "output_type": "stream",
     "text": [
      "\n",
      "408it [00:09, 42.41it/s]\n",
      "100%|██████████| 408/408 [00:02<00:00, 149.76it/s]\n",
      "100%|██████████| 136/136 [00:00<00:00, 136.27it/s]"
     ]
    },
    {
     "name": "stdout",
     "output_type": "stream",
     "text": [
      "Epoch: 79, loss=0.01978, valid_auc=0.72405, train_auc=0.99975\n"
     ]
    },
    {
     "name": "stderr",
     "output_type": "stream",
     "text": [
      "\n",
      "408it [00:09, 42.40it/s]\n",
      "100%|██████████| 408/408 [00:02<00:00, 153.23it/s]\n",
      "100%|██████████| 136/136 [00:01<00:00, 131.01it/s]"
     ]
    },
    {
     "name": "stdout",
     "output_type": "stream",
     "text": [
      "Epoch: 80, loss=0.01451, valid_auc=0.72535, train_auc=0.99990\n"
     ]
    },
    {
     "name": "stderr",
     "output_type": "stream",
     "text": [
      "\n",
      "408it [00:09, 43.88it/s]\n",
      "100%|██████████| 408/408 [00:02<00:00, 151.09it/s]\n",
      "100%|██████████| 136/136 [00:01<00:00, 127.52it/s]\n"
     ]
    },
    {
     "name": "stdout",
     "output_type": "stream",
     "text": [
      "Epoch: 81, loss=0.01590, valid_auc=0.72936, train_auc=0.99965\n"
     ]
    },
    {
     "name": "stderr",
     "output_type": "stream",
     "text": [
      "408it [00:09, 44.12it/s]\n",
      "100%|██████████| 408/408 [00:02<00:00, 151.11it/s]\n",
      "100%|██████████| 136/136 [00:01<00:00, 134.07it/s]"
     ]
    },
    {
     "name": "stdout",
     "output_type": "stream",
     "text": [
      "Epoch: 82, loss=0.02013, valid_auc=0.71580, train_auc=0.99982\n"
     ]
    },
    {
     "name": "stderr",
     "output_type": "stream",
     "text": [
      "\n",
      "408it [00:09, 43.59it/s]\n",
      "100%|██████████| 408/408 [00:02<00:00, 153.25it/s]\n",
      "100%|██████████| 136/136 [00:00<00:00, 139.04it/s]"
     ]
    },
    {
     "name": "stdout",
     "output_type": "stream",
     "text": [
      "Epoch: 83, loss=0.01957, valid_auc=0.71947, train_auc=0.99962\n"
     ]
    },
    {
     "name": "stderr",
     "output_type": "stream",
     "text": [
      "\n",
      "408it [00:09, 43.20it/s]\n",
      "100%|██████████| 408/408 [00:02<00:00, 154.79it/s]\n",
      "100%|██████████| 136/136 [00:01<00:00, 133.39it/s]\n"
     ]
    },
    {
     "name": "stdout",
     "output_type": "stream",
     "text": [
      "Epoch: 84, loss=0.01462, valid_auc=0.72347, train_auc=0.99992\n"
     ]
    },
    {
     "name": "stderr",
     "output_type": "stream",
     "text": [
      "408it [00:09, 43.22it/s]\n",
      "100%|██████████| 408/408 [00:02<00:00, 155.25it/s]\n",
      "100%|██████████| 136/136 [00:01<00:00, 128.31it/s]"
     ]
    },
    {
     "name": "stdout",
     "output_type": "stream",
     "text": [
      "Epoch: 85, loss=0.01317, valid_auc=0.72283, train_auc=0.99993\n"
     ]
    },
    {
     "name": "stderr",
     "output_type": "stream",
     "text": [
      "\n",
      "408it [00:09, 43.75it/s]\n",
      "100%|██████████| 408/408 [00:02<00:00, 154.18it/s]\n",
      "100%|██████████| 136/136 [00:01<00:00, 130.30it/s]\n"
     ]
    },
    {
     "name": "stdout",
     "output_type": "stream",
     "text": [
      "Epoch: 86, loss=0.01706, valid_auc=0.71966, train_auc=0.99976\n"
     ]
    },
    {
     "name": "stderr",
     "output_type": "stream",
     "text": [
      "408it [00:09, 43.37it/s]\n",
      "100%|██████████| 408/408 [00:02<00:00, 147.77it/s]\n",
      "100%|██████████| 136/136 [00:01<00:00, 129.74it/s]\n"
     ]
    },
    {
     "name": "stdout",
     "output_type": "stream",
     "text": [
      "\n",
      "Save Model\n",
      "Epoch: 87, loss=0.03333, valid_auc=0.73270, train_auc=0.99990\n"
     ]
    },
    {
     "name": "stderr",
     "output_type": "stream",
     "text": [
      "408it [00:09, 43.45it/s]\n",
      "100%|██████████| 408/408 [00:02<00:00, 151.44it/s]\n",
      "100%|██████████| 136/136 [00:01<00:00, 133.88it/s]"
     ]
    },
    {
     "name": "stdout",
     "output_type": "stream",
     "text": [
      "Epoch: 88, loss=0.01259, valid_auc=0.72640, train_auc=0.99996\n"
     ]
    },
    {
     "name": "stderr",
     "output_type": "stream",
     "text": [
      "\n",
      "408it [00:09, 43.24it/s]\n",
      "100%|██████████| 408/408 [00:02<00:00, 154.64it/s]\n",
      "100%|██████████| 136/136 [00:01<00:00, 135.96it/s]"
     ]
    },
    {
     "name": "stdout",
     "output_type": "stream",
     "text": [
      "Epoch: 89, loss=0.01342, valid_auc=0.72055, train_auc=0.99969\n"
     ]
    },
    {
     "name": "stderr",
     "output_type": "stream",
     "text": [
      "\n",
      "408it [00:09, 43.04it/s]\n",
      "100%|██████████| 408/408 [00:02<00:00, 159.07it/s]\n",
      "100%|██████████| 136/136 [00:00<00:00, 136.09it/s]"
     ]
    },
    {
     "name": "stdout",
     "output_type": "stream",
     "text": [
      "Epoch: 90, loss=0.01348, valid_auc=0.72488, train_auc=0.99965\n"
     ]
    },
    {
     "name": "stderr",
     "output_type": "stream",
     "text": [
      "\n",
      "408it [00:09, 43.58it/s]\n",
      "100%|██████████| 408/408 [00:02<00:00, 157.05it/s]\n",
      "100%|██████████| 136/136 [00:01<00:00, 128.84it/s]"
     ]
    },
    {
     "name": "stdout",
     "output_type": "stream",
     "text": [
      "Epoch: 91, loss=0.02272, valid_auc=0.72657, train_auc=0.99991\n"
     ]
    },
    {
     "name": "stderr",
     "output_type": "stream",
     "text": [
      "\n",
      "408it [00:09, 43.14it/s]\n",
      "100%|██████████| 408/408 [00:02<00:00, 148.36it/s]\n",
      "100%|██████████| 136/136 [00:01<00:00, 131.96it/s]"
     ]
    },
    {
     "name": "stdout",
     "output_type": "stream",
     "text": [
      "Epoch: 92, loss=0.01624, valid_auc=0.72770, train_auc=0.99997\n"
     ]
    },
    {
     "name": "stderr",
     "output_type": "stream",
     "text": [
      "\n",
      "408it [00:09, 43.07it/s]\n",
      "100%|██████████| 408/408 [00:02<00:00, 152.69it/s]\n",
      "100%|██████████| 136/136 [00:01<00:00, 123.70it/s]"
     ]
    },
    {
     "name": "stdout",
     "output_type": "stream",
     "text": [
      "Epoch: 93, loss=0.01588, valid_auc=0.72856, train_auc=0.99981\n"
     ]
    },
    {
     "name": "stderr",
     "output_type": "stream",
     "text": [
      "\n",
      "408it [00:09, 43.07it/s]\n",
      "100%|██████████| 408/408 [00:02<00:00, 155.76it/s]\n",
      "100%|██████████| 136/136 [00:01<00:00, 134.85it/s]"
     ]
    },
    {
     "name": "stdout",
     "output_type": "stream",
     "text": [
      "Epoch: 94, loss=0.01526, valid_auc=0.72273, train_auc=0.99994\n"
     ]
    },
    {
     "name": "stderr",
     "output_type": "stream",
     "text": [
      "\n",
      "408it [00:09, 42.25it/s]\n",
      "100%|██████████| 408/408 [00:02<00:00, 154.74it/s]\n",
      "100%|██████████| 136/136 [00:01<00:00, 133.10it/s]\n"
     ]
    },
    {
     "name": "stdout",
     "output_type": "stream",
     "text": [
      "\n",
      "Save Model\n",
      "Epoch: 95, loss=0.01639, valid_auc=0.73411, train_auc=0.99991\n"
     ]
    },
    {
     "name": "stderr",
     "output_type": "stream",
     "text": [
      "408it [00:09, 42.52it/s]\n",
      "100%|██████████| 408/408 [00:02<00:00, 155.17it/s]\n",
      "100%|██████████| 136/136 [00:01<00:00, 133.23it/s]"
     ]
    },
    {
     "name": "stdout",
     "output_type": "stream",
     "text": [
      "Epoch: 96, loss=0.01372, valid_auc=0.72228, train_auc=0.99997\n"
     ]
    },
    {
     "name": "stderr",
     "output_type": "stream",
     "text": [
      "\n",
      "408it [00:09, 44.20it/s]\n",
      "100%|██████████| 408/408 [00:02<00:00, 153.86it/s]\n",
      "100%|██████████| 136/136 [00:01<00:00, 124.93it/s]"
     ]
    },
    {
     "name": "stdout",
     "output_type": "stream",
     "text": [
      "Epoch: 97, loss=0.01538, valid_auc=0.73042, train_auc=0.99978\n"
     ]
    },
    {
     "name": "stderr",
     "output_type": "stream",
     "text": [
      "\n",
      "408it [00:09, 43.11it/s]\n",
      "100%|██████████| 408/408 [00:02<00:00, 155.46it/s]\n",
      "100%|██████████| 136/136 [00:01<00:00, 134.17it/s]"
     ]
    },
    {
     "name": "stdout",
     "output_type": "stream",
     "text": [
      "Epoch: 98, loss=0.01226, valid_auc=0.72993, train_auc=0.99995\n"
     ]
    },
    {
     "name": "stderr",
     "output_type": "stream",
     "text": [
      "\n",
      "408it [00:09, 42.24it/s]\n",
      "100%|██████████| 408/408 [00:02<00:00, 154.22it/s]\n",
      "100%|██████████| 136/136 [00:01<00:00, 129.87it/s]\n"
     ]
    },
    {
     "name": "stdout",
     "output_type": "stream",
     "text": [
      "Epoch: 99, loss=0.01847, valid_auc=0.72587, train_auc=0.99994\n"
     ]
    },
    {
     "name": "stderr",
     "output_type": "stream",
     "text": [
      "408it [00:09, 43.13it/s]\n",
      "100%|██████████| 408/408 [00:02<00:00, 152.74it/s]\n",
      "100%|██████████| 136/136 [00:00<00:00, 138.23it/s]"
     ]
    },
    {
     "name": "stdout",
     "output_type": "stream",
     "text": [
      "Epoch: 100, loss=0.01311, valid_auc=0.72610, train_auc=0.99966\n"
     ]
    },
    {
     "name": "stderr",
     "output_type": "stream",
     "text": [
      "\n"
     ]
    }
   ],
   "source": [
    "valid_auc = 0\n",
    "for epoch in range(100):\n",
    "\n",
    "    loss = train(model, optimizer, trainloader, device)\n",
    "    train_auc = test(model, trainloader, device)\n",
    "    auc = test(model, validloader, device)\n",
    "   \n",
    "    if auc > valid_auc:\n",
    "        valid_auc = auc\n",
    "        \n",
    "        checkpoint = {\n",
    "            'model_stat': model.state_dict(),\n",
    "            'optimizer_stat': optimizer.state_dict(),\n",
    "        }\n",
    "        \n",
    "        torch.save(checkpoint, os.path.join(root, \"results\", dataset, \"conv\", \n",
    "                                                \"{}_{}.pth\".format(date_time, dataset)))\n",
    "        print(\"\\nSave Model\")\n",
    "    \n",
    "    print(\"Epoch: {}, loss={:.5f}, valid_auc={:.5f}, train_auc={:.5f}\".format(epoch+1, loss, auc, train_auc))\n",
    "    "
   ]
  },
  {
   "cell_type": "code",
   "execution_count": 89,
   "id": "efficient-motor",
   "metadata": {},
   "outputs": [
    {
     "name": "stdout",
     "output_type": "stream",
     "text": [
      "Embedding(877, 97)\n",
      "pretrained finded\n"
     ]
    }
   ],
   "source": [
    "model, optimizer = load_checkpoint(os.path.join(root, \"results\", dataset, \"conv\", \"weight.pth\"), device=device)"
   ]
  },
  {
   "cell_type": "code",
   "execution_count": 90,
   "id": "hollow-continuity",
   "metadata": {},
   "outputs": [
    {
     "name": "stderr",
     "output_type": "stream",
     "text": [
      "100%|██████████| 21/21 [00:00<00:00, 61.72it/s]\n"
     ]
    }
   ],
   "source": [
    "pred = predict(model, testloader, device)"
   ]
  },
  {
   "cell_type": "code",
   "execution_count": 91,
   "id": "durable-arnold",
   "metadata": {},
   "outputs": [
    {
     "data": {
      "text/plain": [
       "array([9.99296665e-01, 9.99974608e-01, 9.99904752e-01, 9.81246769e-01,\n",
       "       9.41093604e-05, 3.11104268e-05, 9.99999166e-01, 2.24112961e-02,\n",
       "       9.99894381e-01, 9.99646306e-01, 4.32964180e-06, 9.97670829e-01,\n",
       "       2.91336537e-03, 9.98132527e-01, 4.62299140e-05, 9.99988914e-01,\n",
       "       1.76502326e-07, 9.99999762e-01, 1.65335496e-03, 9.99194682e-01,\n",
       "       1.00000000e+00, 9.99995828e-01, 9.99987245e-01, 3.67666507e-04,\n",
       "       2.47902626e-05, 9.99567568e-01, 9.99998808e-01, 2.89711033e-06,\n",
       "       9.99994516e-01, 9.99999881e-01, 9.98152077e-01, 9.99993324e-01,\n",
       "       4.22160685e-01, 9.99997497e-01, 9.99997377e-01, 9.99977469e-01,\n",
       "       1.86935576e-05, 9.99999762e-01, 9.99999881e-01, 9.99915004e-01,\n",
       "       9.99989629e-01, 9.99951839e-01, 9.97748911e-01, 8.24332631e-07,\n",
       "       7.14886427e-01, 5.42289818e-05, 9.99966025e-01, 3.76991329e-06,\n",
       "       9.99999642e-01, 2.09501650e-05, 9.99803841e-01, 5.23268938e-01,\n",
       "       3.84405375e-01, 3.82165535e-06, 9.99978065e-01, 8.77665798e-07,\n",
       "       9.99996185e-01, 1.70437329e-06, 9.99991298e-01, 9.99945879e-01,\n",
       "       9.98872101e-01, 6.03945082e-05, 1.23462769e-08, 2.34006831e-04,\n",
       "       1.50878564e-04, 9.66987967e-01, 7.11301254e-06, 9.99107540e-01,\n",
       "       9.76037979e-01, 4.49779800e-05, 1.11407480e-05, 9.97599304e-01,\n",
       "       2.10085473e-05, 6.68419816e-05, 9.99964833e-01, 1.98760448e-04,\n",
       "       9.99999762e-01, 9.99994278e-01, 9.99992013e-01, 9.99710023e-01,\n",
       "       9.62503612e-01, 2.05294464e-06, 1.59370156e-05, 9.99999404e-01,\n",
       "       9.99998331e-01, 3.79211342e-05, 9.99935389e-01, 4.52827699e-05,\n",
       "       9.99823034e-01, 1.70217114e-04, 9.99999523e-01, 7.85238808e-05,\n",
       "       9.34251249e-02, 1.77546626e-05, 4.01678744e-06, 1.25880842e-05,\n",
       "       9.99985814e-01, 3.78178214e-07, 7.71260560e-01, 2.14597192e-02,\n",
       "       9.99988317e-01, 8.14461382e-04, 3.74224871e-01, 9.99973178e-01,\n",
       "       9.99997616e-01, 9.99885798e-01, 6.65353060e-01, 3.69863629e-01,\n",
       "       9.99997139e-01, 9.99995828e-01, 9.99753773e-01, 3.27037206e-08,\n",
       "       4.65646772e-05, 9.99991179e-01, 7.59336710e-01, 9.68382418e-01,\n",
       "       9.99998569e-01, 4.52192126e-06, 9.99999285e-01, 9.99999523e-01,\n",
       "       5.41546615e-04, 3.00759962e-03, 4.50713669e-05, 9.99997735e-01,\n",
       "       4.48280945e-04, 1.26859422e-05, 2.29334764e-05, 9.99980569e-01,\n",
       "       5.96809768e-05, 9.99935508e-01, 9.99358952e-01, 1.45089507e-04,\n",
       "       9.98422384e-01, 1.39171602e-02, 9.99999046e-01, 9.99950767e-01,\n",
       "       3.78214376e-04, 9.99369800e-01, 3.66261080e-02, 9.99991417e-01,\n",
       "       1.21906760e-06, 1.36705626e-06, 9.99993920e-01, 9.99994040e-01,\n",
       "       1.23869595e-05, 5.40294801e-04, 9.99757230e-01, 1.44092262e-01,\n",
       "       1.00000000e+00, 9.99993443e-01, 9.99999523e-01, 9.99997377e-01,\n",
       "       9.72147703e-01, 6.39966129e-06, 1.30205527e-01, 9.99999762e-01,\n",
       "       9.99996781e-01, 9.99999762e-01, 5.19717275e-07, 3.31097079e-04,\n",
       "       1.94565218e-03, 9.99887586e-01, 1.96013250e-04, 1.99467323e-07,\n",
       "       9.99166727e-01, 9.99860048e-01, 5.36126947e-07, 3.32908094e-05,\n",
       "       9.99953151e-01, 2.23459047e-05, 9.99998808e-01, 1.72914192e-01,\n",
       "       9.99999881e-01, 2.29557754e-05, 2.61074310e-04, 9.97944176e-01,\n",
       "       9.99923229e-01, 9.99989390e-01, 9.93316770e-01, 9.99999404e-01,\n",
       "       6.19411410e-04, 9.99988794e-01, 9.99996662e-01, 9.32484269e-01,\n",
       "       4.05305415e-01, 9.77427900e-01, 9.99999404e-01, 9.99999404e-01,\n",
       "       9.99964237e-01, 9.18853446e-04, 2.46839985e-01, 9.97364581e-01,\n",
       "       9.99658108e-01, 9.58773959e-03, 1.19730862e-06, 1.18432592e-06,\n",
       "       9.97464657e-01, 3.67915720e-01, 1.00000000e+00, 2.23068446e-06,\n",
       "       9.99977946e-01, 9.99996781e-01, 3.92756147e-06, 3.86776228e-05,\n",
       "       9.99971986e-01, 9.99999762e-01, 5.88909534e-05, 9.99951839e-01,\n",
       "       8.69364291e-03, 9.99974847e-01, 9.99995351e-01, 1.15061455e-04,\n",
       "       9.99989867e-01, 5.51893318e-05, 8.92189855e-05, 9.99812186e-01,\n",
       "       3.51326744e-05, 9.99904513e-01, 3.63358777e-05, 5.69678093e-07,\n",
       "       2.72522029e-02, 5.72893332e-05, 9.99944687e-01, 9.99992728e-01,\n",
       "       9.96047318e-01, 2.57520378e-03, 2.03571409e-01, 7.42397130e-01,\n",
       "       9.98897910e-01, 5.94292487e-07, 9.99998808e-01, 2.61913186e-07,\n",
       "       1.00000000e+00, 1.08908571e-05, 9.99999523e-01, 2.84940720e-01,\n",
       "       2.23676625e-06, 2.05366359e-05, 9.99998689e-01, 9.99593675e-01,\n",
       "       9.99145269e-01, 9.76512074e-01, 9.66362715e-01, 3.43433901e-04,\n",
       "       9.09848571e-01, 3.68001405e-03, 3.53011251e-06, 9.99999404e-01,\n",
       "       3.94826174e-01, 1.59806419e-07, 9.99783337e-01, 1.37208544e-05,\n",
       "       2.74416467e-04, 9.99996305e-01, 1.66382324e-06, 9.99958158e-01,\n",
       "       5.52460961e-02, 3.24154535e-04, 7.92754889e-01, 1.92520076e-07,\n",
       "       9.99999166e-01, 9.99930501e-01, 9.97576654e-01, 2.20474714e-04,\n",
       "       9.99867082e-01, 8.78249228e-01, 7.74293393e-02, 9.98965979e-01,\n",
       "       9.99823511e-01, 3.73888016e-02, 9.99968290e-01, 1.17949792e-04,\n",
       "       9.99999762e-01, 3.36839520e-07, 6.47336762e-08, 9.98294175e-01,\n",
       "       6.18945342e-05, 1.61213520e-05, 9.99293566e-01, 1.60285766e-04,\n",
       "       1.57654324e-06, 9.81991827e-01, 9.99918938e-01, 1.00000000e+00,\n",
       "       9.99997497e-01, 9.99262989e-01, 9.80444789e-01, 9.99440968e-01,\n",
       "       1.75229536e-04, 9.99994874e-01, 9.99992847e-01, 9.99999642e-01,\n",
       "       9.99829412e-01, 2.59187909e-05, 2.31899844e-06, 9.00978921e-05,\n",
       "       8.88279101e-06, 2.03087006e-06, 9.99945521e-01, 1.00000000e+00,\n",
       "       9.95299041e-01, 9.99907017e-01, 4.27947185e-07, 1.74813683e-03,\n",
       "       6.17320839e-05, 3.30923917e-03, 9.99973774e-01, 1.30816697e-04,\n",
       "       9.99891758e-01, 5.62569994e-06, 1.62500029e-07, 9.99935746e-01,\n",
       "       9.99943256e-01, 1.78121170e-03, 2.73654905e-07, 9.99998689e-01,\n",
       "       1.00000000e+00, 1.54390465e-04, 9.99893546e-01, 1.70727617e-05,\n",
       "       1.51281059e-02, 3.22534675e-07, 9.99713957e-01, 5.04363769e-08,\n",
       "       4.18001378e-04, 6.86696410e-01, 1.59505963e-01, 9.99901772e-01,\n",
       "       9.99410152e-01, 6.25183642e-01, 9.99981165e-01, 1.36692226e-01,\n",
       "       9.97393847e-01, 9.99907613e-01, 8.52322728e-07, 3.56709788e-05,\n",
       "       9.99944568e-01, 9.99993443e-01, 9.84051585e-01, 3.72807868e-02,\n",
       "       5.49470494e-03, 9.99878407e-01, 9.99874711e-01, 9.99968529e-01,\n",
       "       1.51929734e-02, 9.99982476e-01, 4.58203685e-05, 9.99986053e-01,\n",
       "       9.99995708e-01, 9.99998212e-01, 3.42965620e-07, 3.13287927e-07,\n",
       "       9.99991775e-01, 9.99968171e-01, 9.89705026e-01, 9.27498102e-01,\n",
       "       9.99995828e-01, 8.59150350e-06, 9.99992251e-01, 2.67488480e-01,\n",
       "       9.99173820e-01, 9.65557396e-01, 9.52176988e-01, 4.19992796e-09,\n",
       "       4.55782720e-04, 6.27482831e-01, 9.99998331e-01, 5.01081523e-08,\n",
       "       2.49819685e-04, 9.99997258e-01, 1.83588068e-04, 8.69294349e-03,\n",
       "       2.39415863e-06, 9.99980450e-01, 9.99983311e-01, 9.97406185e-01,\n",
       "       9.99977469e-01, 9.99999166e-01, 1.73822716e-08, 2.81989912e-07,\n",
       "       1.39622221e-04, 3.67329596e-03, 9.99996185e-01, 9.99937296e-01,\n",
       "       9.99833584e-01, 3.13865312e-04, 1.42540459e-08, 7.40021514e-03,\n",
       "       1.71383334e-04, 4.39242976e-05, 9.98506486e-01, 1.32236665e-03,\n",
       "       5.99554078e-05, 2.38354914e-05, 1.82477470e-06, 8.01600618e-06,\n",
       "       9.99993443e-01, 9.94471312e-01, 9.99590933e-01, 9.99981999e-01,\n",
       "       4.90798338e-05, 9.63738799e-01, 9.99928117e-01, 2.74977060e-06,\n",
       "       2.48911092e-05, 9.99999523e-01, 9.99999285e-01, 9.99987483e-01,\n",
       "       9.99999523e-01, 9.99132216e-01, 2.37891125e-03, 9.99999285e-01,\n",
       "       9.99998808e-01, 8.34848166e-01, 6.57727696e-07, 9.99977946e-01,\n",
       "       9.99902010e-01, 9.99994516e-01, 9.96429503e-01, 9.99152303e-01,\n",
       "       9.99994278e-01, 9.97436583e-01, 9.99956727e-01, 6.10085030e-04,\n",
       "       9.99999046e-01, 6.05551293e-03, 6.20825100e-04, 1.82518534e-06,\n",
       "       1.41760920e-05, 9.99939680e-01, 9.94827092e-01, 4.24502464e-03,\n",
       "       4.14536629e-07, 2.72377074e-04, 9.99987245e-01, 9.99997020e-01,\n",
       "       2.29682072e-07, 3.83968427e-06, 8.92472883e-07, 9.99998808e-01,\n",
       "       3.22009884e-02, 9.99997854e-01, 1.24101061e-04, 1.34892727e-03,\n",
       "       4.96027451e-06, 1.00000000e+00, 1.31344586e-05, 9.96665180e-01,\n",
       "       2.96501828e-08, 9.99949694e-01, 6.97485805e-02, 9.92695451e-01,\n",
       "       9.99988079e-01, 9.99999285e-01, 9.99999285e-01, 9.68689263e-01,\n",
       "       9.99935150e-01, 1.12408385e-01, 1.01987860e-06, 9.99998569e-01,\n",
       "       1.15527399e-03, 9.99999404e-01, 8.07249380e-05, 6.72066817e-05,\n",
       "       3.92322108e-05, 6.58195794e-01, 4.46145204e-05, 1.28077678e-04,\n",
       "       9.99868035e-01, 9.99999523e-01, 3.56086937e-04, 9.99645591e-01,\n",
       "       9.99997616e-01, 9.76428092e-01, 7.39909941e-04, 9.99992609e-01,\n",
       "       9.99676347e-01, 9.99997735e-01, 5.84243071e-06, 9.99996185e-01,\n",
       "       9.99995112e-01, 9.99995828e-01, 9.99931216e-01, 1.00000000e+00,\n",
       "       9.99995947e-01, 3.35181539e-07, 9.98066247e-01, 1.00000000e+00,\n",
       "       9.99681473e-01, 1.00000000e+00, 1.95043111e-08, 5.15765169e-06,\n",
       "       6.92670408e-04, 9.99998927e-01, 2.54326678e-05, 9.99999762e-01,\n",
       "       9.99393225e-01, 9.99999285e-01, 5.77096671e-07, 9.98560607e-01,\n",
       "       7.75785168e-07, 9.99966979e-01, 3.91957536e-03, 4.86153795e-06,\n",
       "       7.84925938e-01, 9.99999404e-01, 9.66973722e-01, 2.90383381e-04,\n",
       "       6.25264656e-05, 5.10395225e-03, 6.59208235e-05, 9.80073273e-01,\n",
       "       9.99802291e-01, 9.99652505e-01, 8.44780573e-07, 2.40848721e-07,\n",
       "       2.60328434e-05, 2.47676962e-05, 1.92982952e-05, 4.34744798e-05,\n",
       "       2.76617497e-01, 9.99993443e-01, 1.31264812e-06, 1.44226096e-05,\n",
       "       9.99800861e-01, 7.86987414e-07, 8.37256493e-07, 9.28409211e-03,\n",
       "       9.99673247e-01, 9.99982953e-01, 7.76620000e-04, 6.62842691e-01,\n",
       "       1.73799857e-01, 5.55433750e-01, 9.99773204e-01, 2.46906038e-05,\n",
       "       7.12684868e-03, 9.99976158e-01, 9.99999166e-01, 9.47617531e-01,\n",
       "       9.79122639e-01, 9.99989033e-01, 1.44406170e-01, 9.94278073e-01,\n",
       "       1.00000000e+00, 9.99999642e-01, 8.30181420e-01, 9.99999046e-01,\n",
       "       3.15714180e-01, 9.97205913e-01, 9.99961376e-01, 4.99905902e-04,\n",
       "       2.77294638e-03, 9.99999285e-01, 3.04774335e-06, 1.00000000e+00,\n",
       "       1.78984963e-04, 9.98030245e-01, 1.00000000e+00, 3.52387869e-04,\n",
       "       1.14677539e-06, 1.67140213e-04, 9.98314023e-01, 3.29378878e-07,\n",
       "       7.16919089e-07, 9.99924064e-01, 2.58194941e-05, 1.95019832e-03,\n",
       "       4.38372354e-07, 1.25035673e-01, 9.99995828e-01, 9.99954820e-01,\n",
       "       2.37977438e-04, 9.99999881e-01, 2.25688498e-02, 9.59107339e-01,\n",
       "       9.98414755e-01, 2.43515206e-06, 3.44020846e-05, 9.75305557e-01,\n",
       "       9.99998927e-01, 9.80066299e-01, 9.99999523e-01, 9.99972582e-01,\n",
       "       1.62488595e-03, 7.63338089e-01, 9.99999881e-01, 5.01602608e-06,\n",
       "       9.99993801e-01, 5.63244294e-06, 9.99940395e-01, 3.12515027e-07,\n",
       "       2.55501382e-02, 9.61261630e-01, 9.99999404e-01, 9.99984860e-01,\n",
       "       9.99980450e-01, 1.09997217e-03, 4.97009787e-05, 9.99789655e-01,\n",
       "       1.00000000e+00, 9.96677876e-01, 9.25357699e-01, 2.76408885e-02,\n",
       "       1.05448062e-05, 9.99999523e-01, 9.99978781e-01, 3.76867283e-05,\n",
       "       9.56332588e-05, 9.94097710e-01, 1.51100132e-04, 8.33709294e-07,\n",
       "       3.76225123e-03, 9.97793198e-01, 3.91717441e-03, 9.99911427e-01,\n",
       "       5.93706727e-01, 9.99983549e-01, 9.99901175e-01, 1.55867679e-06,\n",
       "       2.93387752e-03, 8.28360856e-01, 1.13255759e-04, 9.71033394e-01,\n",
       "       9.99988317e-01, 3.38399346e-04, 9.62191494e-04, 9.99999762e-01,\n",
       "       9.99996424e-01, 9.99979377e-01, 1.85498653e-03, 9.99978900e-01,\n",
       "       2.03833726e-04, 9.99965429e-01, 5.17661683e-05, 1.17766956e-06,\n",
       "       1.96559381e-06, 6.51501656e-01, 9.99994636e-01, 1.26839882e-06,\n",
       "       9.99476135e-01, 1.47616316e-04, 4.06132841e-07, 9.99994993e-01],\n",
       "      dtype=float32)"
      ]
     },
     "execution_count": 91,
     "metadata": {},
     "output_type": "execute_result"
    }
   ],
   "source": [
    "pred = pred.detach().cpu().numpy()\n",
    "# pred = np.round(pred, 3)\n",
    "pred"
   ]
  },
  {
   "cell_type": "code",
   "execution_count": 92,
   "id": "opened-recognition",
   "metadata": {},
   "outputs": [],
   "source": [
    "test_df[\"prob\"] = pred\n",
    "test_df.to_csv(\"conv_all.csv\", index=False)"
   ]
  },
  {
   "cell_type": "code",
   "execution_count": 93,
   "id": "thirty-botswana",
   "metadata": {},
   "outputs": [],
   "source": [
    "upload = test_df[[\"id\", \"prob\"]]\n",
    "upload.to_csv(\"upload.csv\", index=False)"
   ]
  },
  {
   "cell_type": "code",
   "execution_count": null,
   "id": "alone-parade",
   "metadata": {},
   "outputs": [],
   "source": []
  }
 ],
 "metadata": {
  "kernelspec": {
   "display_name": "Python 3",
   "language": "python",
   "name": "python3"
  },
  "language_info": {
   "codemirror_mode": {
    "name": "ipython",
    "version": 3
   },
   "file_extension": ".py",
   "mimetype": "text/x-python",
   "name": "python",
   "nbconvert_exporter": "python",
   "pygments_lexer": "ipython3",
   "version": "3.7.9"
  }
 },
 "nbformat": 4,
 "nbformat_minor": 5
}
